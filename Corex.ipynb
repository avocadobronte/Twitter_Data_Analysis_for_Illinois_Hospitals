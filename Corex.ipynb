{
 "cells": [
  {
   "cell_type": "markdown",
   "metadata": {},
   "source": [
    "## Importing necessary packages"
   ]
  },
  {
   "cell_type": "code",
   "execution_count": 1,
   "metadata": {},
   "outputs": [],
   "source": [
    "# !git clone https://github.com/talhahascelik/python_stepwiseSelection"
   ]
  },
  {
   "cell_type": "code",
   "execution_count": 2,
   "metadata": {},
   "outputs": [
    {
     "name": "stderr",
     "output_type": "stream",
     "text": [
      "[nltk_data] Downloading package wordnet to C:\\Users\\Pras\n",
      "[nltk_data]     Vengs\\AppData\\Roaming\\nltk_data...\n",
      "[nltk_data]   Package wordnet is already up-to-date!\n"
     ]
    },
    {
     "data": {
      "text/plain": [
       "True"
      ]
     },
     "execution_count": 2,
     "metadata": {},
     "output_type": "execute_result"
    }
   ],
   "source": [
    "#!pip install corextopic\n",
    "import re\n",
    "import nltk\n",
    "import string\n",
    "import numpy as np\n",
    "import pandas as pd\n",
    "import seaborn as sns\n",
    "from statistics import *\n",
    "import scipy.sparse as ss\n",
    "import scipy.stats as stats\n",
    "import matplotlib.pyplot as plt\n",
    "from IPython.display import HTML\n",
    "from nltk.corpus import stopwords\n",
    "from corextopic import corextopic as ct\n",
    "from sklearn.feature_extraction.text import CountVectorizer\n",
    "\n",
    "nltk.download('wordnet')"
   ]
  },
  {
   "cell_type": "code",
   "execution_count": 3,
   "metadata": {},
   "outputs": [
    {
     "data": {
      "text/html": [
       "<div>\n",
       "<style scoped>\n",
       "    .dataframe tbody tr th:only-of-type {\n",
       "        vertical-align: middle;\n",
       "    }\n",
       "\n",
       "    .dataframe tbody tr th {\n",
       "        vertical-align: top;\n",
       "    }\n",
       "\n",
       "    .dataframe thead th {\n",
       "        text-align: right;\n",
       "    }\n",
       "</style>\n",
       "<table border=\"1\" class=\"dataframe\">\n",
       "  <thead>\n",
       "    <tr style=\"text-align: right;\">\n",
       "      <th></th>\n",
       "      <th>id</th>\n",
       "      <th>conversation_id</th>\n",
       "      <th>created_at</th>\n",
       "      <th>date</th>\n",
       "      <th>Day</th>\n",
       "      <th>Weekday/Weekend</th>\n",
       "      <th>time</th>\n",
       "      <th>12hr format</th>\n",
       "      <th>Timestamp</th>\n",
       "      <th>Timestamp Category</th>\n",
       "      <th>...</th>\n",
       "      <th>retweet_id</th>\n",
       "      <th>reply_to</th>\n",
       "      <th>retweet_date</th>\n",
       "      <th>translate</th>\n",
       "      <th>trans_src</th>\n",
       "      <th>trans_dest</th>\n",
       "      <th>Followers</th>\n",
       "      <th>Duration</th>\n",
       "      <th>Bucket</th>\n",
       "      <th>Geographical Area</th>\n",
       "    </tr>\n",
       "  </thead>\n",
       "  <tbody>\n",
       "    <tr>\n",
       "      <th>0</th>\n",
       "      <td>1247547267780940032</td>\n",
       "      <td>1247547267780940032</td>\n",
       "      <td>2020-04-07 15:30:21 UTC</td>\n",
       "      <td>2020-04-07</td>\n",
       "      <td>Tuesday</td>\n",
       "      <td>Weekday</td>\n",
       "      <td>15:30:21</td>\n",
       "      <td>03:30:21 PM</td>\n",
       "      <td>0.50</td>\n",
       "      <td>AFTERNOON</td>\n",
       "      <td>...</td>\n",
       "      <td>NaN</td>\n",
       "      <td>[]</td>\n",
       "      <td>NaN</td>\n",
       "      <td>NaN</td>\n",
       "      <td>NaN</td>\n",
       "      <td>NaN</td>\n",
       "      <td>4021</td>\n",
       "      <td>4195</td>\n",
       "      <td>Hospital Promotion</td>\n",
       "      <td>Rural</td>\n",
       "    </tr>\n",
       "    <tr>\n",
       "      <th>1</th>\n",
       "      <td>1224497930859687936</td>\n",
       "      <td>1224497930859687936</td>\n",
       "      <td>2020-02-04 01:00:31 UTC</td>\n",
       "      <td>2020-02-04</td>\n",
       "      <td>Tuesday</td>\n",
       "      <td>Weekday</td>\n",
       "      <td>01:00:31</td>\n",
       "      <td>01:00:31 AM</td>\n",
       "      <td>0.00</td>\n",
       "      <td>NIGHT</td>\n",
       "      <td>...</td>\n",
       "      <td>NaN</td>\n",
       "      <td>[]</td>\n",
       "      <td>NaN</td>\n",
       "      <td>NaN</td>\n",
       "      <td>NaN</td>\n",
       "      <td>NaN</td>\n",
       "      <td>4021</td>\n",
       "      <td>4195</td>\n",
       "      <td>Health Education/Awareness</td>\n",
       "      <td>Rural</td>\n",
       "    </tr>\n",
       "    <tr>\n",
       "      <th>2</th>\n",
       "      <td>1255859924686574080</td>\n",
       "      <td>1255859924686574080</td>\n",
       "      <td>2020-04-30 14:01:53 UTC</td>\n",
       "      <td>2020-04-30</td>\n",
       "      <td>Thursday</td>\n",
       "      <td>Weekday</td>\n",
       "      <td>14:01:53</td>\n",
       "      <td>02:01:53 PM</td>\n",
       "      <td>0.50</td>\n",
       "      <td>AFTERNOON</td>\n",
       "      <td>...</td>\n",
       "      <td>NaN</td>\n",
       "      <td>[]</td>\n",
       "      <td>NaN</td>\n",
       "      <td>NaN</td>\n",
       "      <td>NaN</td>\n",
       "      <td>NaN</td>\n",
       "      <td>4021</td>\n",
       "      <td>4195</td>\n",
       "      <td>Job Posting/Hiring</td>\n",
       "      <td>Rural</td>\n",
       "    </tr>\n",
       "    <tr>\n",
       "      <th>3</th>\n",
       "      <td>1261022636634767104</td>\n",
       "      <td>1261022072869773056</td>\n",
       "      <td>2020-05-14 19:56:39 UTC</td>\n",
       "      <td>2020-05-14</td>\n",
       "      <td>Thursday</td>\n",
       "      <td>Weekday</td>\n",
       "      <td>19:56:39</td>\n",
       "      <td>07:56:39 PM</td>\n",
       "      <td>0.75</td>\n",
       "      <td>EVENING</td>\n",
       "      <td>...</td>\n",
       "      <td>NaN</td>\n",
       "      <td>[{'screen_name': 'pavangk17', 'name': 'pavangk...</td>\n",
       "      <td>NaN</td>\n",
       "      <td>NaN</td>\n",
       "      <td>NaN</td>\n",
       "      <td>NaN</td>\n",
       "      <td>4021</td>\n",
       "      <td>4195</td>\n",
       "      <td>General covid awareness</td>\n",
       "      <td>Rural</td>\n",
       "    </tr>\n",
       "    <tr>\n",
       "      <th>4</th>\n",
       "      <td>1243900897379433984</td>\n",
       "      <td>1243900897379433984</td>\n",
       "      <td>2020-03-28 14:00:59 UTC</td>\n",
       "      <td>2020-03-28</td>\n",
       "      <td>Saturday</td>\n",
       "      <td>Weekend</td>\n",
       "      <td>14:00:59</td>\n",
       "      <td>02:00:59 PM</td>\n",
       "      <td>0.50</td>\n",
       "      <td>AFTERNOON</td>\n",
       "      <td>...</td>\n",
       "      <td>NaN</td>\n",
       "      <td>[]</td>\n",
       "      <td>NaN</td>\n",
       "      <td>NaN</td>\n",
       "      <td>NaN</td>\n",
       "      <td>NaN</td>\n",
       "      <td>4021</td>\n",
       "      <td>4195</td>\n",
       "      <td>Hospital Promotion</td>\n",
       "      <td>Rural</td>\n",
       "    </tr>\n",
       "  </tbody>\n",
       "</table>\n",
       "<p>5 rows × 45 columns</p>\n",
       "</div>"
      ],
      "text/plain": [
       "                    id      conversation_id               created_at  \\\n",
       "0  1247547267780940032  1247547267780940032  2020-04-07 15:30:21 UTC   \n",
       "1  1224497930859687936  1224497930859687936  2020-02-04 01:00:31 UTC   \n",
       "2  1255859924686574080  1255859924686574080  2020-04-30 14:01:53 UTC   \n",
       "3  1261022636634767104  1261022072869773056  2020-05-14 19:56:39 UTC   \n",
       "4  1243900897379433984  1243900897379433984  2020-03-28 14:00:59 UTC   \n",
       "\n",
       "         date       Day Weekday/Weekend      time  12hr format  Timestamp  \\\n",
       "0  2020-04-07   Tuesday         Weekday  15:30:21  03:30:21 PM       0.50   \n",
       "1  2020-02-04   Tuesday         Weekday  01:00:31  01:00:31 AM       0.00   \n",
       "2  2020-04-30  Thursday         Weekday  14:01:53  02:01:53 PM       0.50   \n",
       "3  2020-05-14  Thursday         Weekday  19:56:39  07:56:39 PM       0.75   \n",
       "4  2020-03-28  Saturday         Weekend  14:00:59  02:00:59 PM       0.50   \n",
       "\n",
       "  Timestamp Category  ...  retweet_id  \\\n",
       "0          AFTERNOON  ...         NaN   \n",
       "1              NIGHT  ...         NaN   \n",
       "2          AFTERNOON  ...         NaN   \n",
       "3            EVENING  ...         NaN   \n",
       "4          AFTERNOON  ...         NaN   \n",
       "\n",
       "                                            reply_to retweet_date translate  \\\n",
       "0                                                 []          NaN       NaN   \n",
       "1                                                 []          NaN       NaN   \n",
       "2                                                 []          NaN       NaN   \n",
       "3  [{'screen_name': 'pavangk17', 'name': 'pavangk...          NaN       NaN   \n",
       "4                                                 []          NaN       NaN   \n",
       "\n",
       "  trans_src trans_dest Followers Duration                      Bucket  \\\n",
       "0       NaN        NaN      4021     4195          Hospital Promotion   \n",
       "1       NaN        NaN      4021     4195  Health Education/Awareness   \n",
       "2       NaN        NaN      4021     4195          Job Posting/Hiring   \n",
       "3       NaN        NaN      4021     4195     General covid awareness   \n",
       "4       NaN        NaN      4021     4195          Hospital Promotion   \n",
       "\n",
       "  Geographical Area  \n",
       "0             Rural  \n",
       "1             Rural  \n",
       "2             Rural  \n",
       "3             Rural  \n",
       "4             Rural  \n",
       "\n",
       "[5 rows x 45 columns]"
      ]
     },
     "execution_count": 3,
     "metadata": {},
     "output_type": "execute_result"
    }
   ],
   "source": [
    "# Declaring Lemmatization object for data pre-processing \n",
    "WNL = nltk.WordNetLemmatizer()\n",
    "\n",
    "# Importing data\n",
    "df = pd.read_excel(\"Illinois Hospital Tweets.xlsx\", sheet_name=\"Unique Tweets\")\n",
    "df.head()"
   ]
  },
  {
   "cell_type": "markdown",
   "metadata": {},
   "source": [
    "## <br><br>Data Pre-processing"
   ]
  },
  {
   "cell_type": "code",
   "execution_count": 4,
   "metadata": {},
   "outputs": [],
   "source": [
    "# Function to remove emojis rom tweets\n",
    "def remove_emoji(string):\n",
    "    emoji_pattern = re.compile(\"[\"\n",
    "                           u\"\\U0001F600-\\U0001F64F\"  # emoticons\n",
    "                           u\"\\U0001F300-\\U0001F5FF\"  # symbols & pictographs\n",
    "                           u\"\\U0001F680-\\U0001F6FF\"  # transport & map symbols\n",
    "                           u\"\\U0001F1E0-\\U0001F1FF\"  # flags (iOS)\n",
    "                           u\"\\U00002702-\\U000027B0\"\n",
    "                           u\"\\U000024C2-\\U0001F251\"\n",
    "                           \"]+\", flags=re.UNICODE)\n",
    "    return emoji_pattern.sub(r'', string)\n",
    "\n",
    "# Data pre-processing Function\n",
    "def data_preprocessing(tweets_list):\n",
    "    \n",
    "    for i in range(len(tweets_list)):\n",
    "        # Remove emojis\n",
    "        tweets_list[i] = remove_emoji(tweets_list[i])\n",
    "        \n",
    "        # Remove URL\n",
    "        tweets_list[i] = re.sub(r\"http\\S+\", \"\", tweets_list[i])\n",
    "        \n",
    "        # Remove @user_mentions\n",
    "        tweets_list[i] = re.sub(r\"@\\S+\", \"\",tweets_list[i])\n",
    "        \n",
    "        # Converting tweets to lowercase\n",
    "        tweets_list[i] = tweets_list[i].lower()\n",
    "        \n",
    "        # Removing punctuations from tweets\n",
    "        tweets_list[i] = re.sub(r'[^\\w\\s]', ' ', tweets_list[i])\n",
    "        \n",
    "        # Splitting tweet into individual words\n",
    "        tweets_list[i] = tweets_list[i].split()\n",
    "        \n",
    "        # Removing stop words\n",
    "        tweets_list[i] = [word for word in tweets_list[i] if word not in stopwords.words('english')]\n",
    "        \n",
    "        # Performing lemmatization for each word and combining individual words back into a single tweet\n",
    "        tweets_list[i] = \" \".join([WNL.lemmatize(word) for word in tweets_list[i]])\n",
    "                                  \n",
    "    return tweets_list"
   ]
  },
  {
   "cell_type": "code",
   "execution_count": 5,
   "metadata": {},
   "outputs": [
    {
     "name": "stdout",
     "output_type": "stream",
     "text": [
      "Before processing:\n",
      "Safety first! 👀 Masks, hand sanitizer...thanks to the @Cubs for setting an example on and off the field.👏  https://t.co/sReulNWcNM\n",
      "\n",
      "After Processing:\n",
      "safety first mask hand sanitizer thanks setting example field\n"
     ]
    }
   ],
   "source": [
    "# Original Tweets\n",
    "tweets_list = list(df['tweet'])\n",
    "prior = tweets_list[760]\n",
    "tweets_list = data_preprocessing(tweets_list)\n",
    "print(f'Before processing:\\n{prior}\\n\\nAfter Processing:\\n{tweets_list[760]}')"
   ]
  },
  {
   "cell_type": "markdown",
   "metadata": {},
   "source": [
    "## <br><br> Unsupervised: Topic modelling using CorEx"
   ]
  },
  {
   "cell_type": "code",
   "execution_count": 6,
   "metadata": {},
   "outputs": [
    {
     "data": {
      "text/plain": [
       "(11061, 109783)"
      ]
     },
     "execution_count": 6,
     "metadata": {},
     "output_type": "execute_result"
    }
   ],
   "source": [
    "# Converting the data into a sparse matrix\n",
    "vectorizer = CountVectorizer(stop_words='english', max_features=None, binary=True, ngram_range=(1,2))\n",
    "doc_word = vectorizer.fit_transform(tweets_list)\n",
    "doc_word = ss.csr_matrix(doc_word)\n",
    "\n",
    "doc_word.shape # n_docs x m_words"
   ]
  },
  {
   "cell_type": "markdown",
   "metadata": {},
   "source": [
    "The <b>doc_word</b> matrix comprises of 11061 rows (each representing an individual tweet) and 109783 columns (each representing a unigram/bigram from the corpus) <br><br>"
   ]
  },
  {
   "cell_type": "markdown",
   "metadata": {},
   "source": [
    "The number of columns in <b>doc_word</b> matrix can further be reduced if we remove the numbers"
   ]
  },
  {
   "cell_type": "code",
   "execution_count": 7,
   "metadata": {},
   "outputs": [
    {
     "data": {
      "text/plain": [
       "(11061, 109263)"
      ]
     },
     "execution_count": 7,
     "metadata": {},
     "output_type": "execute_result"
    }
   ],
   "source": [
    "# Fetching the list of words\n",
    "words = list(np.asarray(vectorizer.get_feature_names()))\n",
    "\n",
    "# Extracting only words and ignoring the digits (numbers)\n",
    "words = [word for ind,word in enumerate(words) if not word.isdigit()]\n",
    "\n",
    "# Extracting the indices only for words and ignoring the digits\n",
    "not_digit_inds = [ind for ind,word in enumerate(words) if not word.isdigit()]\n",
    "\n",
    "# Subsetting the matrix based on the above indices extracted \n",
    "doc_word = doc_word[:,not_digit_inds]\n",
    "\n",
    "doc_word.shape"
   ]
  },
  {
   "cell_type": "markdown",
   "metadata": {},
   "source": [
    "The number of words (columns) after ignoring all the numbers has now reduced to 109263<br><br>"
   ]
  },
  {
   "cell_type": "code",
   "execution_count": 8,
   "metadata": {},
   "outputs": [
    {
     "data": {
      "text/plain": [
       "<corextopic.corextopic.Corex at 0x1cd6b15a488>"
      ]
     },
     "execution_count": 8,
     "metadata": {},
     "output_type": "execute_result"
    }
   ],
   "source": [
    "# Training the corex model with 10 topics\n",
    "topic_model = ct.Corex(n_hidden=10, words=words, max_iter=200, verbose=False, seed=1)\n",
    "topic_model.fit(doc_word, words=words)"
   ]
  },
  {
   "cell_type": "code",
   "execution_count": 9,
   "metadata": {},
   "outputs": [
    {
     "name": "stdout",
     "output_type": "stream",
     "text": [
      "0: meiner,megan wright,certification obstetric,use service,rademaker,hosted,washington street,bushue achieve,board commissioner,sticking food\n",
      "1: elli experience,ranked mask,vehicle arrive,sunday try,sunlight funk,privacy,ranking hospital,elizabeth pieroth,sunny mesa,wellness visit\n",
      "2: ago tip,care child,ago remains,apply donor,8pm est,mask evidence,visitor week,service currently,supporting patient,column qc\n",
      "3: curve meet,cut oven,carmen rosario,air pollution,hope resolve,box hanging,superbowl2020,provide limited,precaution minimize,hope promise\n",
      "4: rooney md,heart goredforwomen,website rush,image printable,image provided,heart happen,website subscribe,1000 checking,hoffmanestates award,receive professional\n",
      "5: megan defrates,hosting shoe,herb flower,carle_docs,activity safely,thing hand,emerald,emerald circle,air advocate,year bachelor\n",
      "6: cardinal,attends carle,distancing webinar,robot deployed,inpatient exception,inpatient child,create culture,raise hand,care constantly,dan olivett\n",
      "7: screening detect,area secure,vp ambulatory,professional search,pulmonologist majid,professional result,visit physician,screening enhance,corp recently,care wondering\n",
      "8: crate,crate coffee,19 digital,mayaangelou,completed fall,starting symptom,thanks passionate,health today,dr imran,covid19 preparedness\n",
      "9: helping flatten,protecting family,migranes,mike,aug 27th,meatlessmonday,late sign,impact heart,safe maskuphoosiers,remain safe\n"
     ]
    }
   ],
   "source": [
    "# Print all topics from the CorEx topic model\n",
    "topics = topic_model.get_topics()\n",
    "for n,topic in enumerate(topics):\n",
    "    topic_words,_ = zip(*topic)\n",
    "    print('{}: '.format(n) + ','.join(topic_words))"
   ]
  },
  {
   "cell_type": "code",
   "execution_count": 10,
   "metadata": {},
   "outputs": [
    {
     "name": "stdout",
     "output_type": "stream",
     "text": [
      "Total correlation = 23.699\n"
     ]
    }
   ],
   "source": [
    "print(f'Total correlation = {round(topic_model.tc,4)}')"
   ]
  },
  {
   "cell_type": "markdown",
   "metadata": {},
   "source": [
    "## <br><br> Semi-supervised: Anchored CorEx"
   ]
  },
  {
   "cell_type": "code",
   "execution_count": 11,
   "metadata": {},
   "outputs": [],
   "source": [
    "anchor_words = [\n",
    "    #0 Job Posting/Hiring\n",
    "    [\"experience\", \"position\", \"hire\", \"looking\", \"certified\", \"looking hire\", \"join team\", \"service looking\", \"extensive onsite\", \n",
    "     \"onsite service\", \"food service\", \"certification\"],\n",
    "    \n",
    "    #1 Hospital Promotion\n",
    "    [\"provide\", \"offer\", \"service\", \"partner\", \"surgeon\", \"medical center\", \"family medicine\", \"health foundation\",\n",
    "     \"minimally invasive\", \"high quality\", \"visit website\", \"general surgery\", \"appointment\", \"medical group\", \"care wondering\",\n",
    "     \"immediate care\", \"state art\", \"primary care\", \"health center\", \"robotic surgery\", \"board certified\", \"advancement\"],\n",
    "    \n",
    "    #2 Health Education/Awareness\n",
    "    [\"cancer\", \"heart\", \"awareness\", \"screening\", \"blog\", \"exercise\", \"heart disease\", \"awareness month\", \"colon cancer\", \n",
    "     \"mental health\", \"reduce risk\", \"colorectal cancer\", \"cancer awareness\", \"heart health\", \"blood pressure\", \"heart attack\"],\n",
    "    \n",
    "    #3 Award/Achievement/Appreciation\n",
    "    [\"thank\", \"appreciation\", \"congratulation\", \"award\", \"recognition\", \"frontline\", \"help ensure\", \"care patient\",\n",
    "     \"assessment program\", \"hospital assessment\", \"medicaid program\", \"access quality\", \"quality hospital\", \"thank support\",\n",
    "     \"award\", \"big thank\", \"community thank\", \"thank sharing\", \"thank nurse\", \"thank staff\", \n",
    "     \"thank supporting\", \"staff thank\", \"thanks appreciation\"],\n",
    "    \n",
    "    #4 Event \n",
    "    [\"register\", \"event\", \"join\", \"discussion\", \"schedule\", \"donate\", \"donation\", \"cancer screening\", \"blood drive\", \n",
    "     \"time register\", \"info register\", \"free virtual\", \"invite join\", \"panel\", \"blood donation\",  \"question using\", \n",
    "     \"panel discussion\",  \"twitter chat\", \"live\", \"cancer management\", \"advancement cancer\", \"flu shot\",\"mobile health\",\n",
    "     \"residency program\", \"registration\"],\n",
    "    \n",
    "    #5 Covid specific event\n",
    "    [\"testing\", \"clinic\", \"symptomatic\", \"non symptomatic\", \"interested tested\", \"care connect\"],\n",
    "    \n",
    "    #6 General covid awareness\n",
    "    [\"cdc\", \"mask\", \"hand\", \"wash\", \"guideline\", \"stay home\", \"wear mask\", \"wash hand\", \"social distancing\", \"spread covid\", \n",
    "     \"mask public\", \"social distance\", \"face covering\", \"wearing mask\", \"reduce spread\", \"cloth face\", \"ventilator\"], \n",
    "    \n",
    "    #7 Hospital specific covid education\n",
    "    [\"doctor\", \"dr\", \"expert\", \"help\", \"ask\", \"infection\",\"askdrmarkman\", \"chief medical\", \"medical officer\", \"president ceo\", \n",
    "     \"vp chief\", \"answer question\", \"disease expert\", \"offer tip\", \"officer dr\", \"staff sharing\", \"expert say\", \"answered\"],\n",
    "    \n",
    "    #8 Covid Policy Changes/hospital changes\n",
    "    [\"visitor\", \"hotline\", \"policy\",\"screening\", \"patient visitor\", \"visitor guideline\", \"new visitor\", \"visitor restriction\", \n",
    "     \"visitor policy\", \"safety patient\", \"health safety\", \"visitor staff\", \"virtual solution\"],\n",
    "    \n",
    "    #9 Miscellaneous\n",
    "    [\"census\", \"dissatisfaction\", \"valentinesday\", \"superbowl\", \"football\", \"new year\", \"happynewyear\", \"experienced patient\", \n",
    "     \"patient relation\", \"happy birthday\", \"relation team\", \"apologize dissatisfaction\", \"feedback welcome\", \"patient relation\"]\n",
    "]"
   ]
  },
  {
   "cell_type": "code",
   "execution_count": 12,
   "metadata": {},
   "outputs": [
    {
     "data": {
      "text/plain": [
       "<corextopic.corextopic.Corex at 0x1cd6bafb5c8>"
      ]
     },
     "execution_count": 12,
     "metadata": {},
     "output_type": "execute_result"
    }
   ],
   "source": [
    "# Fitting the model to the doc_word matrix\n",
    "anchored_topic_model = ct.Corex(n_hidden=10, seed=1)\n",
    "anchored_topic_model.fit(doc_word, words=words, anchors=anchor_words, anchor_strength=8)"
   ]
  },
  {
   "cell_type": "code",
   "execution_count": 13,
   "metadata": {},
   "outputs": [
    {
     "name": "stdout",
     "output_type": "stream",
     "text": [
      "0: extensive onsite,position,certification,join team,looking hire,food service,certified\n",
      "1: care wondering,healthcare caring,provide,medical center,robotic surgery,immediate care,carle_docs\n",
      "2: blood pressure,heart health,screening,colorectal cancer,heart attack,cancer awareness,awareness\n",
      "3: thank staff,appreciation,thank nurse,award,care patient,help ensure,thank\n",
      "4: discussion,megan wright,completed fall,meiner,flu shot,time register,crate\n",
      "5: symptomatic,non symptomatic,clinic,interested tested,care connect,care eye,zvi\n",
      "6: room main,rooney md,healthy relationship,wearing mask,social distancing,social distance,teen facing\n",
      "7: dr,expert,chief medical,answered,officer dr,askdrmarkman,disease expert\n",
      "8: screening,visitor policy,safety patient,visitor staff,policy,new visitor,health safety\n",
      "9: census,relation team,football,experienced patient,apologize dissatisfaction,patient relation,happynewyear\n"
     ]
    }
   ],
   "source": [
    "# Getting the top seven words in each topic\n",
    "topics = anchored_topic_model.get_topics()\n",
    "for n,topic in enumerate(topics):\n",
    "    topic_words,_ = zip(*topic)\n",
    "    print('{}: '.format(n) + ','.join(topic_words[:7]))"
   ]
  },
  {
   "cell_type": "code",
   "execution_count": 14,
   "metadata": {},
   "outputs": [],
   "source": [
    "# List to store the topics of each tweet\n",
    "bucket_list = []\n",
    "\n",
    "# Dictionary to convert number into topic defined by us\n",
    "num_to_bucket = {0:\"Job Posting/Hiring\", 1:\"Hospital Promotion\", 2:\"Health Education/Awareness\",\n",
    "                 3:\"Award/Achievement/Appreciation\", 4:\"Event\", 5:\"Covid specific event\",\n",
    "                 6:\"General covid awareness\", 7:\"Hospital specific covid education\", 8:\"Covid Policy Changes/hospital changes\", \n",
    "                 9:\"Miscellaneous\"}\n",
    "\n",
    "# Using z-scores to predict the topic for each tweet\n",
    "for i in range(anchored_topic_model.labels.shape[0]):\n",
    "    logz_list = list(anchored_topic_model.log_z[i])\n",
    "    indx = logz_list.index(max(logz_list))\n",
    "    bucket_list.append(num_to_bucket[indx])\n",
    "    \n",
    "# Adding the Topic list as a column in the dataframe\n",
    "df[\"Topic\"] = bucket_list"
   ]
  },
  {
   "cell_type": "code",
   "execution_count": 15,
   "metadata": {},
   "outputs": [
    {
     "data": {
      "text/plain": [
       "63.83320452884636"
      ]
     },
     "execution_count": 15,
     "metadata": {},
     "output_type": "execute_result"
    }
   ],
   "source": [
    "# Total correlation of the anchored corex model\n",
    "anchored_topic_model.tc"
   ]
  },
  {
   "cell_type": "markdown",
   "metadata": {},
   "source": [
    "The topics segregated based on the provided anchor words now are in line with the topics defined by us. Also, the overall correlation of the semi-supervised model has doubled compared to unsupervised model indicating the words grouped together under the topics are more correlated (make better sense)"
   ]
  },
  {
   "cell_type": "markdown",
   "metadata": {},
   "source": [
    "# <br><br><center>HYPOTHESIS TESTING</center>"
   ]
  },
  {
   "cell_type": "code",
   "execution_count": 16,
   "metadata": {},
   "outputs": [
    {
     "data": {
      "text/html": [
       "<div>\n",
       "<style scoped>\n",
       "    .dataframe tbody tr th:only-of-type {\n",
       "        vertical-align: middle;\n",
       "    }\n",
       "\n",
       "    .dataframe tbody tr th {\n",
       "        vertical-align: top;\n",
       "    }\n",
       "\n",
       "    .dataframe thead th {\n",
       "        text-align: right;\n",
       "    }\n",
       "</style>\n",
       "<table border=\"1\" class=\"dataframe\">\n",
       "  <thead>\n",
       "    <tr style=\"text-align: right;\">\n",
       "      <th></th>\n",
       "      <th>Tweet ID</th>\n",
       "      <th>Created at</th>\n",
       "      <th>Day</th>\n",
       "      <th>Time of day</th>\n",
       "      <th>Handle Name</th>\n",
       "      <th>Hospital</th>\n",
       "      <th>Tweet</th>\n",
       "      <th>Number of Followers</th>\n",
       "      <th>Days since account creation</th>\n",
       "      <th>Topic</th>\n",
       "      <th>Geographical Area</th>\n",
       "      <th>Media</th>\n",
       "      <th>Likes</th>\n",
       "      <th>Retweets</th>\n",
       "    </tr>\n",
       "  </thead>\n",
       "  <tbody>\n",
       "    <tr>\n",
       "      <th>0</th>\n",
       "      <td>1247547267780940032</td>\n",
       "      <td>2020-04-07 15:30:21 UTC</td>\n",
       "      <td>Weekday</td>\n",
       "      <td>AFTERNOON</td>\n",
       "      <td>amitahealth</td>\n",
       "      <td>AMITA Health</td>\n",
       "      <td>When it comes to global health, we're all in i...</td>\n",
       "      <td>4021</td>\n",
       "      <td>4195</td>\n",
       "      <td>Hospital Promotion</td>\n",
       "      <td>Rural</td>\n",
       "      <td>1</td>\n",
       "      <td>3</td>\n",
       "      <td>1</td>\n",
       "    </tr>\n",
       "    <tr>\n",
       "      <th>1</th>\n",
       "      <td>1224497930859687936</td>\n",
       "      <td>2020-02-04 01:00:31 UTC</td>\n",
       "      <td>Weekday</td>\n",
       "      <td>NIGHT</td>\n",
       "      <td>amitahealth</td>\n",
       "      <td>AMITA Health</td>\n",
       "      <td>Leap forward with us at the Inaugural #AMITAhe...</td>\n",
       "      <td>4021</td>\n",
       "      <td>4195</td>\n",
       "      <td>Health Education/Awareness</td>\n",
       "      <td>Rural</td>\n",
       "      <td>1</td>\n",
       "      <td>1</td>\n",
       "      <td>1</td>\n",
       "    </tr>\n",
       "    <tr>\n",
       "      <th>2</th>\n",
       "      <td>1255859924686574080</td>\n",
       "      <td>2020-04-30 14:01:53 UTC</td>\n",
       "      <td>Weekday</td>\n",
       "      <td>AFTERNOON</td>\n",
       "      <td>amitahealth</td>\n",
       "      <td>AMITA Health</td>\n",
       "      <td>If you have tested positive for COVID-19 and r...</td>\n",
       "      <td>4021</td>\n",
       "      <td>4195</td>\n",
       "      <td>Job Posting/Hiring</td>\n",
       "      <td>Rural</td>\n",
       "      <td>1</td>\n",
       "      <td>3</td>\n",
       "      <td>1</td>\n",
       "    </tr>\n",
       "    <tr>\n",
       "      <th>3</th>\n",
       "      <td>1261022636634767104</td>\n",
       "      <td>2020-05-14 19:56:39 UTC</td>\n",
       "      <td>Weekday</td>\n",
       "      <td>EVENING</td>\n",
       "      <td>amitahealth</td>\n",
       "      <td>AMITA Health</td>\n",
       "      <td>@pavangk17 Thank you for bringing to our atten...</td>\n",
       "      <td>4021</td>\n",
       "      <td>4195</td>\n",
       "      <td>General covid awareness</td>\n",
       "      <td>Rural</td>\n",
       "      <td>0</td>\n",
       "      <td>1</td>\n",
       "      <td>2</td>\n",
       "    </tr>\n",
       "    <tr>\n",
       "      <th>4</th>\n",
       "      <td>1243900897379433984</td>\n",
       "      <td>2020-03-28 14:00:59 UTC</td>\n",
       "      <td>Weekend</td>\n",
       "      <td>AFTERNOON</td>\n",
       "      <td>amitahealth</td>\n",
       "      <td>AMITA Health</td>\n",
       "      <td>Stay informed! Check the link below for the la...</td>\n",
       "      <td>4021</td>\n",
       "      <td>4195</td>\n",
       "      <td>Hospital Promotion</td>\n",
       "      <td>Rural</td>\n",
       "      <td>0</td>\n",
       "      <td>1</td>\n",
       "      <td>0</td>\n",
       "    </tr>\n",
       "  </tbody>\n",
       "</table>\n",
       "</div>"
      ],
      "text/plain": [
       "              Tweet ID               Created at      Day Time of day  \\\n",
       "0  1247547267780940032  2020-04-07 15:30:21 UTC  Weekday   AFTERNOON   \n",
       "1  1224497930859687936  2020-02-04 01:00:31 UTC  Weekday       NIGHT   \n",
       "2  1255859924686574080  2020-04-30 14:01:53 UTC  Weekday   AFTERNOON   \n",
       "3  1261022636634767104  2020-05-14 19:56:39 UTC  Weekday     EVENING   \n",
       "4  1243900897379433984  2020-03-28 14:00:59 UTC  Weekend   AFTERNOON   \n",
       "\n",
       "   Handle Name      Hospital  \\\n",
       "0  amitahealth  AMITA Health   \n",
       "1  amitahealth  AMITA Health   \n",
       "2  amitahealth  AMITA Health   \n",
       "3  amitahealth  AMITA Health   \n",
       "4  amitahealth  AMITA Health   \n",
       "\n",
       "                                               Tweet  Number of Followers  \\\n",
       "0  When it comes to global health, we're all in i...                 4021   \n",
       "1  Leap forward with us at the Inaugural #AMITAhe...                 4021   \n",
       "2  If you have tested positive for COVID-19 and r...                 4021   \n",
       "3  @pavangk17 Thank you for bringing to our atten...                 4021   \n",
       "4  Stay informed! Check the link below for the la...                 4021   \n",
       "\n",
       "   Days since account creation                       Topic Geographical Area  \\\n",
       "0                         4195          Hospital Promotion             Rural   \n",
       "1                         4195  Health Education/Awareness             Rural   \n",
       "2                         4195          Job Posting/Hiring             Rural   \n",
       "3                         4195     General covid awareness             Rural   \n",
       "4                         4195          Hospital Promotion             Rural   \n",
       "\n",
       "   Media  Likes  Retweets  \n",
       "0      1      3         1  \n",
       "1      1      1         1  \n",
       "2      1      3         1  \n",
       "3      0      1         2  \n",
       "4      0      1         0  "
      ]
     },
     "execution_count": 16,
     "metadata": {},
     "output_type": "execute_result"
    }
   ],
   "source": [
    "df = df[[\"id\", \"created_at\", \"Weekday/Weekend\", \"Timestamp Category\", \"username\", \"name\", \"tweet\", \"Followers\", \"Duration\",\n",
    "         \"Topic\", \"Geographical Area\", \"video\", \"likes_count\", \"retweets_count\"]]\n",
    "\n",
    "df = df.rename(columns={\"id\":'Tweet ID', 'created_at':'Created at', 'Weekday/Weekend':'Day', 'Timestamp Category':'Time of day',\n",
    "                        'username':'Handle Name', 'name':'Hospital', 'tweet':'Tweet', 'Followers':'Number of Followers',\n",
    "                        'Duration':'Days since account creation', 'video':'Media', 'likes_count':'Likes', \n",
    "                        'retweets_count':'Retweets'})\n",
    "df.head()"
   ]
  },
  {
   "cell_type": "code",
   "execution_count": 17,
   "metadata": {},
   "outputs": [
    {
     "data": {
      "text/html": [
       "<div>\n",
       "<style scoped>\n",
       "    .dataframe tbody tr th:only-of-type {\n",
       "        vertical-align: middle;\n",
       "    }\n",
       "\n",
       "    .dataframe tbody tr th {\n",
       "        vertical-align: top;\n",
       "    }\n",
       "\n",
       "    .dataframe thead th {\n",
       "        text-align: right;\n",
       "    }\n",
       "</style>\n",
       "<table border=\"1\" class=\"dataframe\">\n",
       "  <thead>\n",
       "    <tr style=\"text-align: right;\">\n",
       "      <th></th>\n",
       "      <th>Tweet ID</th>\n",
       "      <th>Created at</th>\n",
       "      <th>Day</th>\n",
       "      <th>Time of day</th>\n",
       "      <th>Handle Name</th>\n",
       "      <th>Hospital</th>\n",
       "      <th>Tweet</th>\n",
       "      <th>Number of Followers</th>\n",
       "      <th>Days since account creation</th>\n",
       "      <th>Topic</th>\n",
       "      <th>Geographical Area</th>\n",
       "      <th>Media</th>\n",
       "      <th>Likes</th>\n",
       "      <th>Retweets</th>\n",
       "    </tr>\n",
       "  </thead>\n",
       "  <tbody>\n",
       "    <tr>\n",
       "      <th>0</th>\n",
       "      <td>1247547267780940032</td>\n",
       "      <td>2020-04-07 15:30:21 UTC</td>\n",
       "      <td>Weekday</td>\n",
       "      <td>AFTERNOON</td>\n",
       "      <td>amitahealth</td>\n",
       "      <td>AMITA Health</td>\n",
       "      <td>When it comes to global health, we're all in i...</td>\n",
       "      <td>4021</td>\n",
       "      <td>4195</td>\n",
       "      <td>Hospital Promotion</td>\n",
       "      <td>Rural</td>\n",
       "      <td>1</td>\n",
       "      <td>3</td>\n",
       "      <td>1</td>\n",
       "    </tr>\n",
       "    <tr>\n",
       "      <th>1</th>\n",
       "      <td>1224497930859687936</td>\n",
       "      <td>2020-02-04 01:00:31 UTC</td>\n",
       "      <td>Weekday</td>\n",
       "      <td>NIGHT</td>\n",
       "      <td>amitahealth</td>\n",
       "      <td>AMITA Health</td>\n",
       "      <td>Leap forward with us at the Inaugural #AMITAhe...</td>\n",
       "      <td>4021</td>\n",
       "      <td>4195</td>\n",
       "      <td>Health Education/Awareness</td>\n",
       "      <td>Rural</td>\n",
       "      <td>1</td>\n",
       "      <td>1</td>\n",
       "      <td>1</td>\n",
       "    </tr>\n",
       "    <tr>\n",
       "      <th>2</th>\n",
       "      <td>1255859924686574080</td>\n",
       "      <td>2020-04-30 14:01:53 UTC</td>\n",
       "      <td>Weekday</td>\n",
       "      <td>AFTERNOON</td>\n",
       "      <td>amitahealth</td>\n",
       "      <td>AMITA Health</td>\n",
       "      <td>If you have tested positive for COVID-19 and r...</td>\n",
       "      <td>4021</td>\n",
       "      <td>4195</td>\n",
       "      <td>Job Posting/Hiring</td>\n",
       "      <td>Rural</td>\n",
       "      <td>1</td>\n",
       "      <td>3</td>\n",
       "      <td>1</td>\n",
       "    </tr>\n",
       "    <tr>\n",
       "      <th>3</th>\n",
       "      <td>1261022636634767104</td>\n",
       "      <td>2020-05-14 19:56:39 UTC</td>\n",
       "      <td>Weekday</td>\n",
       "      <td>EVENING</td>\n",
       "      <td>amitahealth</td>\n",
       "      <td>AMITA Health</td>\n",
       "      <td>@pavangk17 Thank you for bringing to our atten...</td>\n",
       "      <td>4021</td>\n",
       "      <td>4195</td>\n",
       "      <td>General covid awareness</td>\n",
       "      <td>Rural</td>\n",
       "      <td>0</td>\n",
       "      <td>1</td>\n",
       "      <td>2</td>\n",
       "    </tr>\n",
       "    <tr>\n",
       "      <th>4</th>\n",
       "      <td>1243900897379433984</td>\n",
       "      <td>2020-03-28 14:00:59 UTC</td>\n",
       "      <td>Weekend</td>\n",
       "      <td>AFTERNOON</td>\n",
       "      <td>amitahealth</td>\n",
       "      <td>AMITA Health</td>\n",
       "      <td>Stay informed! Check the link below for the la...</td>\n",
       "      <td>4021</td>\n",
       "      <td>4195</td>\n",
       "      <td>Hospital Promotion</td>\n",
       "      <td>Rural</td>\n",
       "      <td>0</td>\n",
       "      <td>1</td>\n",
       "      <td>0</td>\n",
       "    </tr>\n",
       "  </tbody>\n",
       "</table>\n",
       "</div>"
      ],
      "text/plain": [
       "              Tweet ID               Created at      Day Time of day  \\\n",
       "0  1247547267780940032  2020-04-07 15:30:21 UTC  Weekday   AFTERNOON   \n",
       "1  1224497930859687936  2020-02-04 01:00:31 UTC  Weekday       NIGHT   \n",
       "2  1255859924686574080  2020-04-30 14:01:53 UTC  Weekday   AFTERNOON   \n",
       "3  1261022636634767104  2020-05-14 19:56:39 UTC  Weekday     EVENING   \n",
       "4  1243900897379433984  2020-03-28 14:00:59 UTC  Weekend   AFTERNOON   \n",
       "\n",
       "   Handle Name      Hospital  \\\n",
       "0  amitahealth  AMITA Health   \n",
       "1  amitahealth  AMITA Health   \n",
       "2  amitahealth  AMITA Health   \n",
       "3  amitahealth  AMITA Health   \n",
       "4  amitahealth  AMITA Health   \n",
       "\n",
       "                                               Tweet  Number of Followers  \\\n",
       "0  When it comes to global health, we're all in i...                 4021   \n",
       "1  Leap forward with us at the Inaugural #AMITAhe...                 4021   \n",
       "2  If you have tested positive for COVID-19 and r...                 4021   \n",
       "3  @pavangk17 Thank you for bringing to our atten...                 4021   \n",
       "4  Stay informed! Check the link below for the la...                 4021   \n",
       "\n",
       "   Days since account creation                       Topic Geographical Area  \\\n",
       "0                         4195          Hospital Promotion             Rural   \n",
       "1                         4195  Health Education/Awareness             Rural   \n",
       "2                         4195          Job Posting/Hiring             Rural   \n",
       "3                         4195     General covid awareness             Rural   \n",
       "4                         4195          Hospital Promotion             Rural   \n",
       "\n",
       "   Media  Likes  Retweets  \n",
       "0      1      3         1  \n",
       "1      1      1         1  \n",
       "2      1      3         1  \n",
       "3      0      1         2  \n",
       "4      0      1         0  "
      ]
     },
     "execution_count": 17,
     "metadata": {},
     "output_type": "execute_result"
    }
   ],
   "source": [
    "df = pd.read_excel(\"Illinois Hospital Tweets.xlsx\", \"Illinois Hospital Tweets\")\n",
    "df.head()"
   ]
  },
  {
   "cell_type": "markdown",
   "metadata": {},
   "source": [
    "## <br><font color=\"orange\">T-test</font>"
   ]
  },
  {
   "cell_type": "markdown",
   "metadata": {},
   "source": [
    "### Day"
   ]
  },
  {
   "cell_type": "code",
   "execution_count": 18,
   "metadata": {},
   "outputs": [],
   "source": [
    "wkday = df[df[\"Day\"]==\"Weekday\"]\n",
    "wkend = df[df[\"Day\"]==\"Weekend\"]"
   ]
  },
  {
   "cell_type": "code",
   "execution_count": 19,
   "metadata": {},
   "outputs": [
    {
     "data": {
      "text/plain": [
       "Ttest_indResult(statistic=-0.6299689666187421, pvalue=0.5287279037602568)"
      ]
     },
     "execution_count": 19,
     "metadata": {},
     "output_type": "execute_result"
    }
   ],
   "source": [
    "stats.ttest_ind(wkday['Likes'], wkend['Likes'])"
   ]
  },
  {
   "cell_type": "code",
   "execution_count": 20,
   "metadata": {},
   "outputs": [
    {
     "data": {
      "text/plain": [
       "Ttest_indResult(statistic=0.03433938695291021, pvalue=0.9726071368686582)"
      ]
     },
     "execution_count": 20,
     "metadata": {},
     "output_type": "execute_result"
    }
   ],
   "source": [
    "stats.ttest_ind(wkday['Retweets'], wkend['Retweets'])"
   ]
  },
  {
   "cell_type": "markdown",
   "metadata": {},
   "source": [
    "The p-value of the is greater than 0.05 for both likes and re-tweets. Hence we can confirm that there is <b><font color = \"red\">no statistical difference </font></b>in the number of likes and retweets a tweet receives based on when tweet was tweeted, <b><font color = \"blue\">weekend</font></b> (or) <b><font color = \"blue\">weekday</font></b>"
   ]
  },
  {
   "cell_type": "markdown",
   "metadata": {},
   "source": [
    "### Geographical Area"
   ]
  },
  {
   "cell_type": "code",
   "execution_count": 21,
   "metadata": {},
   "outputs": [],
   "source": [
    "rural = df[df[\"Geographical Area\"]==\"Rural\"]\n",
    "urban = df[df[\"Geographical Area\"]==\"Urban\"]"
   ]
  },
  {
   "cell_type": "code",
   "execution_count": 22,
   "metadata": {},
   "outputs": [
    {
     "data": {
      "text/plain": [
       "Ttest_indResult(statistic=0.0, pvalue=1.0)"
      ]
     },
     "execution_count": 22,
     "metadata": {},
     "output_type": "execute_result"
    }
   ],
   "source": [
    "stats.ttest_ind(rural['Likes'], rural['Likes'])"
   ]
  },
  {
   "cell_type": "code",
   "execution_count": 23,
   "metadata": {},
   "outputs": [
    {
     "data": {
      "text/plain": [
       "Ttest_indResult(statistic=0.0, pvalue=1.0)"
      ]
     },
     "execution_count": 23,
     "metadata": {},
     "output_type": "execute_result"
    }
   ],
   "source": [
    "stats.ttest_ind(urban['Retweets'], urban['Retweets'])"
   ]
  },
  {
   "cell_type": "markdown",
   "metadata": {},
   "source": [
    "The p-value of the is greater than 0.05 for both likes and re-tweets. Hence we can confirm that there is <b><font color = \"red\">no statistical difference </font></b>in the number of likes and retweets a tweet receives based on the geographical location of the hospital, <b><font color = \"blue\">rural</font></b> (or) <b><font color = \"blue\">urban</font></b>"
   ]
  },
  {
   "cell_type": "markdown",
   "metadata": {},
   "source": [
    "### Media"
   ]
  },
  {
   "cell_type": "code",
   "execution_count": 24,
   "metadata": {},
   "outputs": [],
   "source": [
    "media_yes = df[df[\"Media\"]==1]\n",
    "media_no = df[df[\"Media\"]==0]"
   ]
  },
  {
   "cell_type": "code",
   "execution_count": 25,
   "metadata": {},
   "outputs": [
    {
     "data": {
      "text/plain": [
       "Ttest_indResult(statistic=7.828500833758397, pvalue=5.387807961263879e-15)"
      ]
     },
     "execution_count": 25,
     "metadata": {},
     "output_type": "execute_result"
    }
   ],
   "source": [
    "stats.ttest_ind(media_yes['Likes'], media_no['Likes'])"
   ]
  },
  {
   "cell_type": "code",
   "execution_count": 26,
   "metadata": {},
   "outputs": [
    {
     "data": {
      "text/plain": [
       "Ttest_indResult(statistic=5.991468771923947, pvalue=2.1443106754853373e-09)"
      ]
     },
     "execution_count": 26,
     "metadata": {},
     "output_type": "execute_result"
    }
   ],
   "source": [
    "stats.ttest_ind(media_yes['Retweets'], media_no['Retweets'])"
   ]
  },
  {
   "cell_type": "markdown",
   "metadata": {},
   "source": [
    "The p-value of the is lower than 0.05 for both likes and re-tweets. Hence we can confirm that there is a <b><font color = \"lime\">statistical difference </font></b>in the number of likes and retweets a tweet receives based on whether the tweet <b><font color = \"blue\">includes an  image/video</font></b> (or) <b><font color = \"blue\">not</font></b>"
   ]
  },
  {
   "cell_type": "markdown",
   "metadata": {},
   "source": [
    "## <br><font color=\"orange\">ANOVA</font>"
   ]
  },
  {
   "cell_type": "markdown",
   "metadata": {},
   "source": [
    "### Time of day"
   ]
  },
  {
   "cell_type": "code",
   "execution_count": 27,
   "metadata": {},
   "outputs": [],
   "source": [
    "morn = df[df[\"Time of day\"] == \"MORNING\"]\n",
    "aftr = df[df[\"Time of day\"] == \"AFTERNOON\"]\n",
    "even = df[df[\"Time of day\"] == \"EVENING\"]\n",
    "night = df[df[\"Time of day\"] == \"NIGHT\"]"
   ]
  },
  {
   "cell_type": "code",
   "execution_count": 28,
   "metadata": {},
   "outputs": [
    {
     "data": {
      "text/plain": [
       "F_onewayResult(statistic=0.24987507718981497, pvalue=0.861472053180381)"
      ]
     },
     "execution_count": 28,
     "metadata": {},
     "output_type": "execute_result"
    }
   ],
   "source": [
    "stats.f_oneway(morn['Likes'], aftr['Likes'], even['Likes'], night['Likes'])"
   ]
  },
  {
   "cell_type": "code",
   "execution_count": 29,
   "metadata": {},
   "outputs": [
    {
     "data": {
      "text/plain": [
       "F_onewayResult(statistic=0.4739549654642143, pvalue=0.7004239146200343)"
      ]
     },
     "execution_count": 29,
     "metadata": {},
     "output_type": "execute_result"
    }
   ],
   "source": [
    "stats.f_oneway(morn['Retweets'], aftr['Retweets'], even['Retweets'], night['Retweets'])"
   ]
  },
  {
   "cell_type": "markdown",
   "metadata": {},
   "source": [
    "The p-value of the is greater than 0.05 for both likes and re-tweets. Hence we can confirm that there is <b><font color = \"red\">no statistical difference </font></b>in the number of likes and retweets a tweet receives based on the time of day it was tweeted, <b><font color = \"blue\">Morning, Afternoon, Evening</font></b> (or) <b><font color = \"blue\">weekday</font></b>"
   ]
  },
  {
   "cell_type": "markdown",
   "metadata": {},
   "source": [
    "### Topic"
   ]
  },
  {
   "cell_type": "code",
   "execution_count": 30,
   "metadata": {},
   "outputs": [],
   "source": [
    "topic_1 = df[df[\"Topic\"] == 'Hospital Promotion']\n",
    "topic_2 = df[df[\"Topic\"] == 'Health Education/Awareness']\n",
    "topic_3 = df[df[\"Topic\"] == 'Job Posting/Hiring']\n",
    "topic_4 = df[df[\"Topic\"] == 'General covid awareness']\n",
    "topic_5 = df[df[\"Topic\"] == 'Hospital specific covid education']\n",
    "topic_6 = df[df[\"Topic\"] == 'Covid Policy Changes/hospital changes']\n",
    "topic_7 = df[df[\"Topic\"] == 'Award/Achievement/Appreciation']\n",
    "topic_8 = df[df[\"Topic\"] == 'Covid specific event']\n",
    "topic_9 = df[df[\"Topic\"] == 'Miscellaneous']\n",
    "topic_10 = df[df[\"Topic\"] == 'Event']"
   ]
  },
  {
   "cell_type": "code",
   "execution_count": 31,
   "metadata": {},
   "outputs": [
    {
     "data": {
      "text/plain": [
       "F_onewayResult(statistic=7.472806839621658, pvalue=5.692677789523296e-11)"
      ]
     },
     "execution_count": 31,
     "metadata": {},
     "output_type": "execute_result"
    }
   ],
   "source": [
    "stats.f_oneway(topic_1['Likes'], topic_2['Likes'], topic_3['Likes'], topic_4['Likes'], topic_5['Likes'], \n",
    "               topic_6['Likes'], topic_7['Likes'], topic_8['Likes'], topic_9['Likes'], topic_10['Likes'])"
   ]
  },
  {
   "cell_type": "code",
   "execution_count": 32,
   "metadata": {},
   "outputs": [
    {
     "data": {
      "text/plain": [
       "F_onewayResult(statistic=4.29592534350941, pvalue=1.3554181144365027e-05)"
      ]
     },
     "execution_count": 32,
     "metadata": {},
     "output_type": "execute_result"
    }
   ],
   "source": [
    "stats.f_oneway(topic_1['Retweets'], topic_2['Retweets'], topic_3['Retweets'], topic_4['Retweets'], topic_5['Retweets'], \n",
    "               topic_6['Retweets'], topic_7['Retweets'], topic_8['Retweets'], topic_9['Retweets'], topic_10['Retweets'])"
   ]
  },
  {
   "cell_type": "markdown",
   "metadata": {},
   "source": [
    "The p-value of the is lower than 0.05 for both likes and re-tweets. Hence we can confirm that there is a <b><font color = \"lime\">statistical difference </font></b>in the number of likes and retweets a tweet receives based on the <b><font color = \"blue\">tweet topic</font></b>"
   ]
  },
  {
   "cell_type": "code",
   "execution_count": 33,
   "metadata": {},
   "outputs": [],
   "source": [
    "import xlsxwriter\n",
    "writer = pd.ExcelWriter('Hypothesis Testing.xlsx', engine='xlsxwriter')\n",
    "\n",
    "list_of_topics = [topic_1, topic_2, topic_3, topic_4, topic_5, topic_6, topic_7, topic_8, topic_9, topic_10]\n",
    "\n",
    "list_of_topics_dict = {0: \"Hospital Promotion\", 1: \"Health Education/Awareness\", 2:\"Job Posting/Hiring\",\n",
    "                       3:\"General covid awareness\", 4:\"Hospital specific covid education\",\n",
    "                       5:\"Covid Policy Changes/hospital change\", 6:\"Award/Achievement/Appreciation\", 7:\"Covid specific event\",\n",
    "                       8:\"Miscellaneous\", 9:\"Event\"}\n",
    "topic_1_list = []\n",
    "topic_2_list = []\n",
    "test_val = []\n",
    "for i in range(10):\n",
    "    for j in range(10):\n",
    "        test_val.append(round(stats.ttest_ind(list_of_topics[i]['Retweets'] , list_of_topics[j]['Retweets'])[1], 3))\n",
    "        topic_1_list.append(list_of_topics_dict[i])\n",
    "        topic_2_list.append(list_of_topics_dict[j])\n",
    "        \n",
    "df2 = pd.DataFrame({\"Topic 1\":topic_1_list, \"Topic 2\":topic_2_list, \"T-test: p-value\":test_val})\n",
    "df2.to_excel(writer, sheet_name=\"Topics - Retweets\", index=False)\n",
    "\n",
    "writer.save()"
   ]
  },
  {
   "cell_type": "markdown",
   "metadata": {},
   "source": [
    "## <br><font color=\"orange\"> Pearson Correlation"
   ]
  },
  {
   "cell_type": "markdown",
   "metadata": {},
   "source": [
    "### Days since account creation"
   ]
  },
  {
   "cell_type": "code",
   "execution_count": 34,
   "metadata": {},
   "outputs": [
    {
     "data": {
      "text/plain": [
       "(0.08250258967285552, 3.600817885774504e-18)"
      ]
     },
     "execution_count": 34,
     "metadata": {},
     "output_type": "execute_result"
    }
   ],
   "source": [
    "stats.pearsonr(df[\"Days since account creation\"], df[\"Likes\"])"
   ]
  },
  {
   "cell_type": "code",
   "execution_count": 35,
   "metadata": {},
   "outputs": [
    {
     "data": {
      "text/plain": [
       "(0.06844305853525985, 5.766945942059395e-13)"
      ]
     },
     "execution_count": 35,
     "metadata": {},
     "output_type": "execute_result"
    }
   ],
   "source": [
    "stats.pearsonr(df[\"Days since account creation\"], df[\"Retweets\"])"
   ]
  },
  {
   "cell_type": "markdown",
   "metadata": {},
   "source": [
    "The p-value of the is lower than 0.05 for both likes and re-tweets. Hence we can confirm that there is a <b><font color = \"lime\">statistical difference </font></b>in the number of likes and retweets a tweet receives based on the <b><font color = \"blue\">number of days since twiiter account has been created</font></b>"
   ]
  },
  {
   "cell_type": "markdown",
   "metadata": {},
   "source": [
    "### Number of Followers"
   ]
  },
  {
   "cell_type": "code",
   "execution_count": 36,
   "metadata": {},
   "outputs": [
    {
     "data": {
      "text/plain": [
       "(0.17307881041877538, 4.009769206593016e-75)"
      ]
     },
     "execution_count": 36,
     "metadata": {},
     "output_type": "execute_result"
    }
   ],
   "source": [
    "stats.pearsonr(df[\"Number of Followers\"], df[\"Likes\"])"
   ]
  },
  {
   "cell_type": "code",
   "execution_count": 37,
   "metadata": {},
   "outputs": [
    {
     "data": {
      "text/plain": [
       "(0.14699847943670993, 1.781081978913164e-54)"
      ]
     },
     "execution_count": 37,
     "metadata": {},
     "output_type": "execute_result"
    }
   ],
   "source": [
    "stats.pearsonr(df[\"Number of Followers\"], df[\"Retweets\"])"
   ]
  },
  {
   "cell_type": "markdown",
   "metadata": {},
   "source": [
    "The p-value of the is lower than 0.05 for both likes and re-tweets. Hence we can confirm that there is a <b><font color = \"lime\">statistical difference </font></b>in the number of likes and retweets a tweet receives based on whether the tweet <b><font color = \"blue\">number of followers</font></b> for the twitter account"
   ]
  },
  {
   "cell_type": "markdown",
   "metadata": {},
   "source": [
    "# <br><br><center>LINEAR REGRESSION</center>"
   ]
  },
  {
   "cell_type": "code",
   "execution_count": 38,
   "metadata": {},
   "outputs": [],
   "source": [
    "from sklearn import metrics\n",
    "import statsmodels.api as sm\n",
    "import stepwiseSelection as ss\n",
    "import sklearn.feature_selection\n",
    "from sklearn import preprocessing\n",
    "from sklearn.metrics import mean_squared_error\n",
    "from sklearn.linear_model import LinearRegression\n",
    "from sklearn.model_selection import train_test_split\n",
    "from statsmodels.stats.outliers_influence import variance_inflation_factor "
   ]
  },
  {
   "cell_type": "code",
   "execution_count": 39,
   "metadata": {},
   "outputs": [],
   "source": [
    "lm = LinearRegression()"
   ]
  },
  {
   "cell_type": "markdown",
   "metadata": {},
   "source": [
    "## Data Processing"
   ]
  },
  {
   "cell_type": "code",
   "execution_count": 40,
   "metadata": {},
   "outputs": [
    {
     "name": "stderr",
     "output_type": "stream",
     "text": [
      "C:\\Users\\Pras Vengs\\Anaconda3\\lib\\site-packages\\pandas\\core\\indexing.py:670: SettingWithCopyWarning: \n",
      "A value is trying to be set on a copy of a slice from a DataFrame\n",
      "\n",
      "See the caveats in the documentation: https://pandas.pydata.org/pandas-docs/stable/user_guide/indexing.html#returning-a-view-versus-a-copy\n",
      "  self._setitem_with_indexer(indexer, value)\n",
      "C:\\Users\\Pras Vengs\\Anaconda3\\lib\\site-packages\\ipykernel_launcher.py:5: SettingWithCopyWarning: \n",
      "A value is trying to be set on a copy of a slice from a DataFrame\n",
      "\n",
      "See the caveats in the documentation: https://pandas.pydata.org/pandas-docs/stable/user_guide/indexing.html#returning-a-view-versus-a-copy\n",
      "  \"\"\"\n",
      "C:\\Users\\Pras Vengs\\Anaconda3\\lib\\site-packages\\ipykernel_launcher.py:6: SettingWithCopyWarning: \n",
      "A value is trying to be set on a copy of a slice from a DataFrame\n",
      "\n",
      "See the caveats in the documentation: https://pandas.pydata.org/pandas-docs/stable/user_guide/indexing.html#returning-a-view-versus-a-copy\n",
      "  \n"
     ]
    },
    {
     "data": {
      "text/html": [
       "<div>\n",
       "<style scoped>\n",
       "    .dataframe tbody tr th:only-of-type {\n",
       "        vertical-align: middle;\n",
       "    }\n",
       "\n",
       "    .dataframe tbody tr th {\n",
       "        vertical-align: top;\n",
       "    }\n",
       "\n",
       "    .dataframe thead th {\n",
       "        text-align: right;\n",
       "    }\n",
       "</style>\n",
       "<table border=\"1\" class=\"dataframe\">\n",
       "  <thead>\n",
       "    <tr style=\"text-align: right;\">\n",
       "      <th></th>\n",
       "      <th>Number of Followers</th>\n",
       "      <th>Days since account creation</th>\n",
       "      <th>Award/Achievement/Appreciation</th>\n",
       "      <th>Covid Policy Changes/hospital changes</th>\n",
       "      <th>Covid specific event</th>\n",
       "      <th>Event</th>\n",
       "      <th>General covid awareness</th>\n",
       "      <th>Health Education/Awareness</th>\n",
       "      <th>Hospital Promotion</th>\n",
       "      <th>Hospital specific covid education</th>\n",
       "      <th>...</th>\n",
       "      <th>Rural</th>\n",
       "      <th>Urban</th>\n",
       "      <th>AFTERNOON</th>\n",
       "      <th>EVENING</th>\n",
       "      <th>MORNING</th>\n",
       "      <th>NIGHT</th>\n",
       "      <th>Weekday</th>\n",
       "      <th>Weekend</th>\n",
       "      <th>Likes</th>\n",
       "      <th>Retweets</th>\n",
       "    </tr>\n",
       "  </thead>\n",
       "  <tbody>\n",
       "    <tr>\n",
       "      <th>0</th>\n",
       "      <td>4021</td>\n",
       "      <td>4195</td>\n",
       "      <td>0</td>\n",
       "      <td>0</td>\n",
       "      <td>0</td>\n",
       "      <td>0</td>\n",
       "      <td>0</td>\n",
       "      <td>0</td>\n",
       "      <td>1</td>\n",
       "      <td>0</td>\n",
       "      <td>...</td>\n",
       "      <td>1</td>\n",
       "      <td>0</td>\n",
       "      <td>1</td>\n",
       "      <td>0</td>\n",
       "      <td>0</td>\n",
       "      <td>0</td>\n",
       "      <td>1</td>\n",
       "      <td>0</td>\n",
       "      <td>3</td>\n",
       "      <td>1</td>\n",
       "    </tr>\n",
       "    <tr>\n",
       "      <th>1</th>\n",
       "      <td>4021</td>\n",
       "      <td>4195</td>\n",
       "      <td>0</td>\n",
       "      <td>0</td>\n",
       "      <td>0</td>\n",
       "      <td>0</td>\n",
       "      <td>0</td>\n",
       "      <td>1</td>\n",
       "      <td>0</td>\n",
       "      <td>0</td>\n",
       "      <td>...</td>\n",
       "      <td>1</td>\n",
       "      <td>0</td>\n",
       "      <td>0</td>\n",
       "      <td>0</td>\n",
       "      <td>0</td>\n",
       "      <td>1</td>\n",
       "      <td>1</td>\n",
       "      <td>0</td>\n",
       "      <td>1</td>\n",
       "      <td>1</td>\n",
       "    </tr>\n",
       "    <tr>\n",
       "      <th>2</th>\n",
       "      <td>4021</td>\n",
       "      <td>4195</td>\n",
       "      <td>0</td>\n",
       "      <td>0</td>\n",
       "      <td>0</td>\n",
       "      <td>0</td>\n",
       "      <td>0</td>\n",
       "      <td>0</td>\n",
       "      <td>0</td>\n",
       "      <td>0</td>\n",
       "      <td>...</td>\n",
       "      <td>1</td>\n",
       "      <td>0</td>\n",
       "      <td>1</td>\n",
       "      <td>0</td>\n",
       "      <td>0</td>\n",
       "      <td>0</td>\n",
       "      <td>1</td>\n",
       "      <td>0</td>\n",
       "      <td>3</td>\n",
       "      <td>1</td>\n",
       "    </tr>\n",
       "    <tr>\n",
       "      <th>3</th>\n",
       "      <td>4021</td>\n",
       "      <td>4195</td>\n",
       "      <td>0</td>\n",
       "      <td>0</td>\n",
       "      <td>0</td>\n",
       "      <td>0</td>\n",
       "      <td>1</td>\n",
       "      <td>0</td>\n",
       "      <td>0</td>\n",
       "      <td>0</td>\n",
       "      <td>...</td>\n",
       "      <td>1</td>\n",
       "      <td>0</td>\n",
       "      <td>0</td>\n",
       "      <td>1</td>\n",
       "      <td>0</td>\n",
       "      <td>0</td>\n",
       "      <td>1</td>\n",
       "      <td>0</td>\n",
       "      <td>1</td>\n",
       "      <td>2</td>\n",
       "    </tr>\n",
       "    <tr>\n",
       "      <th>4</th>\n",
       "      <td>4021</td>\n",
       "      <td>4195</td>\n",
       "      <td>0</td>\n",
       "      <td>0</td>\n",
       "      <td>0</td>\n",
       "      <td>0</td>\n",
       "      <td>0</td>\n",
       "      <td>0</td>\n",
       "      <td>1</td>\n",
       "      <td>0</td>\n",
       "      <td>...</td>\n",
       "      <td>1</td>\n",
       "      <td>0</td>\n",
       "      <td>1</td>\n",
       "      <td>0</td>\n",
       "      <td>0</td>\n",
       "      <td>0</td>\n",
       "      <td>0</td>\n",
       "      <td>1</td>\n",
       "      <td>1</td>\n",
       "      <td>0</td>\n",
       "    </tr>\n",
       "  </tbody>\n",
       "</table>\n",
       "<p>5 rows × 24 columns</p>\n",
       "</div>"
      ],
      "text/plain": [
       "   Number of Followers  Days since account creation  \\\n",
       "0                 4021                         4195   \n",
       "1                 4021                         4195   \n",
       "2                 4021                         4195   \n",
       "3                 4021                         4195   \n",
       "4                 4021                         4195   \n",
       "\n",
       "   Award/Achievement/Appreciation  Covid Policy Changes/hospital changes  \\\n",
       "0                               0                                      0   \n",
       "1                               0                                      0   \n",
       "2                               0                                      0   \n",
       "3                               0                                      0   \n",
       "4                               0                                      0   \n",
       "\n",
       "   Covid specific event  Event  General covid awareness  \\\n",
       "0                     0      0                        0   \n",
       "1                     0      0                        0   \n",
       "2                     0      0                        0   \n",
       "3                     0      0                        1   \n",
       "4                     0      0                        0   \n",
       "\n",
       "   Health Education/Awareness  Hospital Promotion  \\\n",
       "0                           0                   1   \n",
       "1                           1                   0   \n",
       "2                           0                   0   \n",
       "3                           0                   0   \n",
       "4                           0                   1   \n",
       "\n",
       "   Hospital specific covid education  ...  Rural  Urban  AFTERNOON  EVENING  \\\n",
       "0                                  0  ...      1      0          1        0   \n",
       "1                                  0  ...      1      0          0        0   \n",
       "2                                  0  ...      1      0          1        0   \n",
       "3                                  0  ...      1      0          0        1   \n",
       "4                                  0  ...      1      0          1        0   \n",
       "\n",
       "   MORNING  NIGHT  Weekday  Weekend  Likes  Retweets  \n",
       "0        0      0        1        0      3         1  \n",
       "1        0      1        1        0      1         1  \n",
       "2        0      0        1        0      3         1  \n",
       "3        0      0        1        0      1         2  \n",
       "4        0      0        0        1      1         0  \n",
       "\n",
       "[5 rows x 24 columns]"
      ]
     },
     "execution_count": 40,
     "metadata": {},
     "output_type": "execute_result"
    }
   ],
   "source": [
    "#Choosing only required Columns\n",
    "regression_df = df[['Number of Followers', 'Days since account creation', 'Day', 'Time of day','Geographical Area','Media', 'Topic','Likes', 'Retweets']]\n",
    "\n",
    "#Replacing 1's & 0's of \"Media\" column with strings\n",
    "regression_df['Media'].loc[(regression_df['Media'] == 1)] = \"Contains Image/Video\"\n",
    "regression_df['Media'].loc[(regression_df['Media'] == 0)] = \"No Image/Video\"\n",
    "\n",
    "# Performing one hot coding of categorical column\n",
    "for col_name in [\"Day\",\"Time of day\",\"Geographical Area\",\"Media\",\"Topic\"]:\n",
    "    regression_df = pd.concat([pd.get_dummies(regression_df[col_name]), regression_df], axis=1)\n",
    "\n",
    "# Selecting the required columns in the required order\n",
    "regression_df = regression_df.drop([\"Day\",\"Time of day\",\"Geographical Area\",\"Media\",\"Topic\"], axis=1)\n",
    "regression_df = pd.concat([regression_df.iloc[:,[20,21]] , regression_df.iloc[:,[*range(20)]] , regression_df.iloc[:,[-2, -1]]], axis=1)\n",
    "\n",
    "regression_df.head()\n",
    "\n",
    "################################################################################################################################################################################\n",
    "# regression_df = pd.read_excel(\"Illinois Hospital Tweets.xlsx\", \"Illinois Hospital Tweets\")\n",
    "# regression_df = regression_df[['Number of Followers', 'Days since account creation', 'Day', 'Time of day',\n",
    "#                                'Geographical Area','Media', 'Topic','Likes', 'Retweets']]\n",
    "\n",
    "# regression_df['Media'].loc[(regression_df['Media'] == 1)] = \"Contains Image/Video\"\n",
    "# regression_df['Media'].loc[(regression_df['Media'] == 0)] = \"No Image/Video\"\n",
    "\n",
    "# for col_name in [\"Day\",\"Time of day\",\"Geographical Area\",\"Media\",\"Topic\"]:\n",
    "#     regression_df = pd.concat([pd.get_dummies(regression_df[col_name]), regression_df], axis=1)\n",
    "    \n",
    "# regression_df = regression_df.drop([\"Day\",\"Time of day\",\"Geographical Area\",\"Media\",\"Topic\"], axis=1)\n",
    "# regression_df = pd.concat([regression_df.iloc[:,[20,21]] , regression_df.iloc[:,[*range(20)]] , regression_df.iloc[:,[-2, -1]]], axis=1)\n",
    "# regression_df.head()"
   ]
  },
  {
   "cell_type": "code",
   "execution_count": 41,
   "metadata": {},
   "outputs": [
    {
     "name": "stdout",
     "output_type": "stream",
     "text": [
      "Range of values in both the numerical columns\n",
      "\n",
      "Days since account creation:\tMin = 443\tMax = 4418\n",
      "Number of Followers:\t\tMin = 3\t\tMax = 27700\n"
     ]
    }
   ],
   "source": [
    "# Checking the range of values in \"Days since account creation\" & \"Number of Followers\" column\n",
    "print(f'Range of values in both the numerical columns\\n\\nDays since account creation:\\tMin = {regression_df[\"Days since account creation\"].min()}\\tMax = {regression_df[\"Days since account creation\"].max()}\\nNumber of Followers:\\t\\tMin = {regression_df[\"Number of Followers\"].min()}\\t\\tMax = {regression_df[\"Number of Followers\"].max()}')"
   ]
  },
  {
   "cell_type": "markdown",
   "metadata": {},
   "source": [
    "Due to a high range of values in both the columns, normalizing the values under both of them"
   ]
  },
  {
   "cell_type": "code",
   "execution_count": 42,
   "metadata": {},
   "outputs": [
    {
     "data": {
      "text/html": [
       "<div>\n",
       "<style scoped>\n",
       "    .dataframe tbody tr th:only-of-type {\n",
       "        vertical-align: middle;\n",
       "    }\n",
       "\n",
       "    .dataframe tbody tr th {\n",
       "        vertical-align: top;\n",
       "    }\n",
       "\n",
       "    .dataframe thead th {\n",
       "        text-align: right;\n",
       "    }\n",
       "</style>\n",
       "<table border=\"1\" class=\"dataframe\">\n",
       "  <thead>\n",
       "    <tr style=\"text-align: right;\">\n",
       "      <th></th>\n",
       "      <th>Number of Followers</th>\n",
       "      <th>Days since account creation</th>\n",
       "      <th>Award/Achievement/Appreciation</th>\n",
       "      <th>Covid Policy Changes/hospital changes</th>\n",
       "      <th>Covid specific event</th>\n",
       "      <th>Event</th>\n",
       "      <th>General covid awareness</th>\n",
       "      <th>Health Education/Awareness</th>\n",
       "      <th>Hospital Promotion</th>\n",
       "      <th>Hospital specific covid education</th>\n",
       "      <th>...</th>\n",
       "      <th>Rural</th>\n",
       "      <th>Urban</th>\n",
       "      <th>AFTERNOON</th>\n",
       "      <th>EVENING</th>\n",
       "      <th>MORNING</th>\n",
       "      <th>NIGHT</th>\n",
       "      <th>Weekday</th>\n",
       "      <th>Weekend</th>\n",
       "      <th>Likes</th>\n",
       "      <th>Retweets</th>\n",
       "    </tr>\n",
       "  </thead>\n",
       "  <tbody>\n",
       "    <tr>\n",
       "      <th>0</th>\n",
       "      <td>0.14507</td>\n",
       "      <td>0.943899</td>\n",
       "      <td>0</td>\n",
       "      <td>0</td>\n",
       "      <td>0</td>\n",
       "      <td>0</td>\n",
       "      <td>0</td>\n",
       "      <td>0</td>\n",
       "      <td>1</td>\n",
       "      <td>0</td>\n",
       "      <td>...</td>\n",
       "      <td>1</td>\n",
       "      <td>0</td>\n",
       "      <td>1</td>\n",
       "      <td>0</td>\n",
       "      <td>0</td>\n",
       "      <td>0</td>\n",
       "      <td>1</td>\n",
       "      <td>0</td>\n",
       "      <td>3</td>\n",
       "      <td>1</td>\n",
       "    </tr>\n",
       "    <tr>\n",
       "      <th>1</th>\n",
       "      <td>0.14507</td>\n",
       "      <td>0.943899</td>\n",
       "      <td>0</td>\n",
       "      <td>0</td>\n",
       "      <td>0</td>\n",
       "      <td>0</td>\n",
       "      <td>0</td>\n",
       "      <td>1</td>\n",
       "      <td>0</td>\n",
       "      <td>0</td>\n",
       "      <td>...</td>\n",
       "      <td>1</td>\n",
       "      <td>0</td>\n",
       "      <td>0</td>\n",
       "      <td>0</td>\n",
       "      <td>0</td>\n",
       "      <td>1</td>\n",
       "      <td>1</td>\n",
       "      <td>0</td>\n",
       "      <td>1</td>\n",
       "      <td>1</td>\n",
       "    </tr>\n",
       "    <tr>\n",
       "      <th>2</th>\n",
       "      <td>0.14507</td>\n",
       "      <td>0.943899</td>\n",
       "      <td>0</td>\n",
       "      <td>0</td>\n",
       "      <td>0</td>\n",
       "      <td>0</td>\n",
       "      <td>0</td>\n",
       "      <td>0</td>\n",
       "      <td>0</td>\n",
       "      <td>0</td>\n",
       "      <td>...</td>\n",
       "      <td>1</td>\n",
       "      <td>0</td>\n",
       "      <td>1</td>\n",
       "      <td>0</td>\n",
       "      <td>0</td>\n",
       "      <td>0</td>\n",
       "      <td>1</td>\n",
       "      <td>0</td>\n",
       "      <td>3</td>\n",
       "      <td>1</td>\n",
       "    </tr>\n",
       "    <tr>\n",
       "      <th>3</th>\n",
       "      <td>0.14507</td>\n",
       "      <td>0.943899</td>\n",
       "      <td>0</td>\n",
       "      <td>0</td>\n",
       "      <td>0</td>\n",
       "      <td>0</td>\n",
       "      <td>1</td>\n",
       "      <td>0</td>\n",
       "      <td>0</td>\n",
       "      <td>0</td>\n",
       "      <td>...</td>\n",
       "      <td>1</td>\n",
       "      <td>0</td>\n",
       "      <td>0</td>\n",
       "      <td>1</td>\n",
       "      <td>0</td>\n",
       "      <td>0</td>\n",
       "      <td>1</td>\n",
       "      <td>0</td>\n",
       "      <td>1</td>\n",
       "      <td>2</td>\n",
       "    </tr>\n",
       "    <tr>\n",
       "      <th>4</th>\n",
       "      <td>0.14507</td>\n",
       "      <td>0.943899</td>\n",
       "      <td>0</td>\n",
       "      <td>0</td>\n",
       "      <td>0</td>\n",
       "      <td>0</td>\n",
       "      <td>0</td>\n",
       "      <td>0</td>\n",
       "      <td>1</td>\n",
       "      <td>0</td>\n",
       "      <td>...</td>\n",
       "      <td>1</td>\n",
       "      <td>0</td>\n",
       "      <td>1</td>\n",
       "      <td>0</td>\n",
       "      <td>0</td>\n",
       "      <td>0</td>\n",
       "      <td>0</td>\n",
       "      <td>1</td>\n",
       "      <td>1</td>\n",
       "      <td>0</td>\n",
       "    </tr>\n",
       "  </tbody>\n",
       "</table>\n",
       "<p>5 rows × 24 columns</p>\n",
       "</div>"
      ],
      "text/plain": [
       "   Number of Followers  Days since account creation  \\\n",
       "0              0.14507                     0.943899   \n",
       "1              0.14507                     0.943899   \n",
       "2              0.14507                     0.943899   \n",
       "3              0.14507                     0.943899   \n",
       "4              0.14507                     0.943899   \n",
       "\n",
       "   Award/Achievement/Appreciation  Covid Policy Changes/hospital changes  \\\n",
       "0                               0                                      0   \n",
       "1                               0                                      0   \n",
       "2                               0                                      0   \n",
       "3                               0                                      0   \n",
       "4                               0                                      0   \n",
       "\n",
       "   Covid specific event  Event  General covid awareness  \\\n",
       "0                     0      0                        0   \n",
       "1                     0      0                        0   \n",
       "2                     0      0                        0   \n",
       "3                     0      0                        1   \n",
       "4                     0      0                        0   \n",
       "\n",
       "   Health Education/Awareness  Hospital Promotion  \\\n",
       "0                           0                   1   \n",
       "1                           1                   0   \n",
       "2                           0                   0   \n",
       "3                           0                   0   \n",
       "4                           0                   1   \n",
       "\n",
       "   Hospital specific covid education  ...  Rural  Urban  AFTERNOON  EVENING  \\\n",
       "0                                  0  ...      1      0          1        0   \n",
       "1                                  0  ...      1      0          0        0   \n",
       "2                                  0  ...      1      0          1        0   \n",
       "3                                  0  ...      1      0          0        1   \n",
       "4                                  0  ...      1      0          1        0   \n",
       "\n",
       "   MORNING  NIGHT  Weekday  Weekend  Likes  Retweets  \n",
       "0        0      0        1        0      3         1  \n",
       "1        0      1        1        0      1         1  \n",
       "2        0      0        1        0      3         1  \n",
       "3        0      0        1        0      1         2  \n",
       "4        0      0        0        1      1         0  \n",
       "\n",
       "[5 rows x 24 columns]"
      ]
     },
     "execution_count": 42,
     "metadata": {},
     "output_type": "execute_result"
    }
   ],
   "source": [
    "# Selecting both numerical columns\n",
    "x = regression_df[[\"Days since account creation\" , \"Number of Followers\"]]\n",
    "\n",
    "# Normalizing both the columns\n",
    "min_max_scaler = preprocessing.MinMaxScaler()\n",
    "x_scaled = min_max_scaler.fit_transform(x)\n",
    "\n",
    "# Concatenating the normalized values with original dataframe\n",
    "regression_df[\"Days since account creation\"] = list(np.array(x_scaled).transpose()[0])\n",
    "regression_df[\"Number of Followers\"] = list(np.array(x_scaled).transpose()[1])\n",
    "\n",
    "regression_df = regression_df.reset_index(drop=True)\n",
    "\n",
    "# Final DataFrame\n",
    "regression_df.head()"
   ]
  },
  {
   "cell_type": "markdown",
   "metadata": {},
   "source": [
    "## Feature Selection - Stepwise regression"
   ]
  },
  {
   "cell_type": "code",
   "execution_count": 43,
   "metadata": {},
   "outputs": [
    {
     "name": "stdout",
     "output_type": "stream",
     "text": [
      "Character Variables (Dummies Generated, First Dummies Dropped): []\n",
      "Eliminated : Job Posting/Hiring\n",
      "Regained :  Job Posting/Hiring\n",
      "                            OLS Regression Results                            \n",
      "==============================================================================\n",
      "Dep. Variable:                  Likes   R-squared:                       0.061\n",
      "Model:                            OLS   Adj. R-squared:                  0.059\n",
      "Method:                 Least Squares   F-statistic:                     42.01\n",
      "Date:                Wed, 09 Dec 2020   Prob (F-statistic):          3.48e-136\n",
      "Time:                        17:12:10   Log-Likelihood:                -46526.\n",
      "No. Observations:               11061   AIC:                         9.309e+04\n",
      "Df Residuals:                   11043   BIC:                         9.322e+04\n",
      "Df Model:                          17                                         \n",
      "Covariance Type:            nonrobust                                         \n",
      "=========================================================================================================\n",
      "                                            coef    std err          t      P>|t|      [0.025      0.975]\n",
      "---------------------------------------------------------------------------------------------------------\n",
      "intercept                              4.286e+11   2.79e+13      0.015      0.988   -5.42e+13    5.51e+13\n",
      "Number of Followers                       8.1235      0.526     15.436      0.000       7.092       9.155\n",
      "Days since account creation              -1.0581      0.895     -1.182      0.237      -2.813       0.697\n",
      "Award/Achievement/Appreciation         4.462e+10    2.9e+12      0.015      0.988   -5.65e+12    5.73e+12\n",
      "Covid Policy Changes/hospital changes  4.462e+10    2.9e+12      0.015      0.988   -5.65e+12    5.73e+12\n",
      "Covid specific event                   4.462e+10    2.9e+12      0.015      0.988   -5.65e+12    5.73e+12\n",
      "Event                                  4.462e+10    2.9e+12      0.015      0.988   -5.65e+12    5.73e+12\n",
      "General covid awareness                4.462e+10    2.9e+12      0.015      0.988   -5.65e+12    5.73e+12\n",
      "Health Education/Awareness             4.462e+10    2.9e+12      0.015      0.988   -5.65e+12    5.73e+12\n",
      "Hospital Promotion                     4.462e+10    2.9e+12      0.015      0.988   -5.65e+12    5.73e+12\n",
      "Hospital specific covid education      4.462e+10    2.9e+12      0.015      0.988   -5.65e+12    5.73e+12\n",
      "Job Posting/Hiring                     4.462e+10    2.9e+12      0.015      0.988   -5.65e+12    5.73e+12\n",
      "Miscellaneous                          4.462e+10    2.9e+12      0.015      0.988   -5.65e+12    5.73e+12\n",
      "Contains Image/Video                   2.529e+11   1.65e+13      0.015      0.988    -3.2e+13    3.25e+13\n",
      "No Image/Video                         2.529e+11   1.65e+13      0.015      0.988    -3.2e+13    3.25e+13\n",
      "Rural                                  5.308e+10   3.45e+12      0.015      0.988   -6.72e+12    6.82e+12\n",
      "Urban                                  5.308e+10   3.45e+12      0.015      0.988   -6.72e+12    6.82e+12\n",
      "AFTERNOON                             -1.687e+11    1.1e+13     -0.015      0.988   -2.17e+13    2.13e+13\n",
      "EVENING                               -1.687e+11    1.1e+13     -0.015      0.988   -2.17e+13    2.13e+13\n",
      "MORNING                               -1.687e+11    1.1e+13     -0.015      0.988   -2.17e+13    2.13e+13\n",
      "NIGHT                                 -1.687e+11    1.1e+13     -0.015      0.988   -2.17e+13    2.13e+13\n",
      "Weekday                               -6.104e+11   3.97e+13     -0.015      0.988   -7.84e+13    7.72e+13\n",
      "Weekend                               -6.104e+11   3.97e+13     -0.015      0.988   -7.84e+13    7.72e+13\n",
      "==============================================================================\n",
      "Omnibus:                    28239.965   Durbin-Watson:                   1.921\n",
      "Prob(Omnibus):                  0.000   Jarque-Bera (JB):        742416938.980\n",
      "Skew:                          28.568   Prob(JB):                         0.00\n",
      "Kurtosis:                    1270.920   Cond. No.                     4.85e+16\n",
      "==============================================================================\n",
      "\n",
      "Warnings:\n",
      "[1] Standard Errors assume that the covariance matrix of the errors is correctly specified.\n",
      "[2] The smallest eigenvalue is 2.17e-29. This might indicate that there are\n",
      "strong multicollinearity problems or that the design matrix is singular.\n",
      "AIC: 93087.73529736926\n",
      "BIC: 93219.3365497335\n",
      "Final Variables: ['intercept', 'Number of Followers', 'Days since account creation', 'Award/Achievement/Appreciation', 'Covid Policy Changes/hospital changes', 'Covid specific event', 'Event', 'General covid awareness', 'Health Education/Awareness', 'Hospital Promotion', 'Hospital specific covid education', 'Job Posting/Hiring', 'Miscellaneous', 'Contains Image/Video', 'No Image/Video', 'Rural', 'Urban', 'AFTERNOON', 'EVENING', 'MORNING', 'NIGHT', 'Weekday', 'Weekend']\n"
     ]
    }
   ],
   "source": [
    "# Stepwise regression for likes\n",
    "X = regression_df.drop([\"Likes\", \"Retweets\"], axis=1)\n",
    "y = regression_df.Likes\n",
    "final_vars, iterations_logs = ss.backwardSelection(X,y, model_type=\"linear\")"
   ]
  },
  {
   "cell_type": "code",
   "execution_count": 44,
   "metadata": {},
   "outputs": [
    {
     "name": "stdout",
     "output_type": "stream",
     "text": [
      "Character Variables (Dummies Generated, First Dummies Dropped): []\n",
      "Eliminated : Covid specific event\n",
      "Eliminated : MORNING\n",
      "Eliminated : No Image/Video\n",
      "Eliminated : Event\n",
      "Eliminated : Days since account creation\n",
      "Eliminated : Health Education/Awareness\n",
      "Eliminated : AFTERNOON\n",
      "Eliminated : EVENING\n",
      "Eliminated : NIGHT\n",
      "Eliminated : General covid awareness\n",
      "                            OLS Regression Results                            \n",
      "==============================================================================\n",
      "Dep. Variable:               Retweets   R-squared:                       0.046\n",
      "Model:                            OLS   Adj. R-squared:                  0.045\n",
      "Method:                 Least Squares   F-statistic:                     53.06\n",
      "Date:                Wed, 09 Dec 2020   Prob (F-statistic):          5.07e-105\n",
      "Time:                        17:12:10   Log-Likelihood:                -33673.\n",
      "No. Observations:               11061   AIC:                         6.737e+04\n",
      "Df Residuals:                   11050   BIC:                         6.745e+04\n",
      "Df Model:                          10                                         \n",
      "Covariance Type:            nonrobust                                         \n",
      "=========================================================================================================\n",
      "                                            coef    std err          t      P>|t|      [0.025      0.975]\n",
      "---------------------------------------------------------------------------------------------------------\n",
      "intercept                                 0.5220      0.088      5.901      0.000       0.349       0.695\n",
      "Number of Followers                       1.9642      0.133     14.756      0.000       1.703       2.225\n",
      "Award/Achievement/Appreciation           -0.7233      0.265     -2.730      0.006      -1.243      -0.204\n",
      "Covid Policy Changes/hospital changes    -0.6994      0.284     -2.465      0.014      -1.255      -0.143\n",
      "Hospital Promotion                       -0.6230      0.152     -4.095      0.000      -0.921      -0.325\n",
      "Hospital specific covid education        -0.7762      0.266     -2.914      0.004      -1.298      -0.254\n",
      "Job Posting/Hiring                       -1.1698      0.276     -4.245      0.000      -1.710      -0.630\n",
      "Miscellaneous                            -0.7266      0.272     -2.674      0.007      -1.259      -0.194\n",
      "Contains Image/Video                      0.9004      0.101      8.903      0.000       0.702       1.099\n",
      "Rural                                    -0.4256      0.063     -6.768      0.000      -0.549      -0.302\n",
      "Urban                                     0.9476      0.080     11.904      0.000       0.792       1.104\n",
      "Weekday                                   0.2149      0.069      3.115      0.002       0.080       0.350\n",
      "Weekend                                   0.3071      0.093      3.306      0.001       0.125       0.489\n",
      "==============================================================================\n",
      "Omnibus:                    30807.539   Durbin-Watson:                   1.944\n",
      "Prob(Omnibus):                  0.000   Jarque-Bera (JB):       1894376969.038\n",
      "Skew:                          35.618   Prob(JB):                         0.00\n",
      "Kurtosis:                    2029.158   Cond. No.                     3.72e+16\n",
      "==============================================================================\n",
      "\n",
      "Warnings:\n",
      "[1] Standard Errors assume that the covariance matrix of the errors is correctly specified.\n",
      "[2] The smallest eigenvalue is 2.64e-29. This might indicate that there are\n",
      "strong multicollinearity problems or that the design matrix is singular.\n",
      "AIC: 67367.51386852417\n",
      "BIC: 67447.9368560801\n",
      "Final Variables: ['intercept', 'Number of Followers', 'Award/Achievement/Appreciation', 'Covid Policy Changes/hospital changes', 'Hospital Promotion', 'Hospital specific covid education', 'Job Posting/Hiring', 'Miscellaneous', 'Contains Image/Video', 'Rural', 'Urban', 'Weekday', 'Weekend']\n"
     ]
    }
   ],
   "source": [
    "# Stepwise regression for Retweets\n",
    "X = regression_df.drop([\"Likes\", \"Retweets\"], axis=1)\n",
    "y = regression_df.Retweets\n",
    "final_vars, iterations_logs = ss.backwardSelection(X,y, model_type=\"linear\")"
   ]
  },
  {
   "cell_type": "markdown",
   "metadata": {},
   "source": [
    "## <br><br><br><br>Feature Selection - VIF (Variance Inflation Factor)\n",
    "<font size=4>Using <b>VIF</b> the significant variables are slected as below:</font><br>                  \n",
    " [1] Number of Followers                  \n",
    " [2] Days since account creation          \n",
    " [3] Covid Policy Changes/hospital changes                  \n",
    " [4] Covid specific event                 \n",
    " [5] Event                                \n",
    " [6] General covid awareness              \n",
    " [7] Health Education/Awareness           \n",
    " [8] Hospital specific covid education    \n",
    " [9] Job Posting Hiring                   \n",
    "[10] Miscellaneous                        \n",
    "[11] No Image/Video                       \n",
    "[12] Urban                                \n",
    "[13] EVENING                              \n",
    "[14] MORNING                              \n",
    "[15] NIGHT                                \n",
    "[16] Weekend<br><br>"
   ]
  },
  {
   "cell_type": "markdown",
   "metadata": {},
   "source": [
    "## <br>Feature Selection - Correlation matrix"
   ]
  },
  {
   "cell_type": "code",
   "execution_count": 45,
   "metadata": {},
   "outputs": [
    {
     "data": {
      "text/plain": [
       "<function matplotlib.pyplot.show(*args, **kw)>"
      ]
     },
     "execution_count": 45,
     "metadata": {},
     "output_type": "execute_result"
    },
    {
     "data": {
      "image/png": "[encoded data removed]",
      "text/plain": [
       "<Figure size 648x432 with 2 Axes>"
      ]
     },
     "metadata": {
      "needs_background": "light"
     },
     "output_type": "display_data"
    }
   ],
   "source": [
    "#Correlation Matrix\n",
    "corr_df = regression_df.iloc[:, :-2].corr(method = 'pearson')\n",
    "mask = np.zeros_like(corr_df)\n",
    "mask[np.triu_indices_from(mask)] = True\n",
    "\n",
    "plt.figure(figsize=(9,6))\n",
    "sns.heatmap(corr_df, cmap = 'RdYlGn_r', vmax = 1.0, vmin = -1.0, \n",
    "                mask = mask, linewidths = 0.5)\n",
    "plt.title(\"Correlation Matrix\", fontsize=30)\n",
    "plt.xticks(rotation=90, fontsize=12)\n",
    "plt.yticks(fontsize=12)\n",
    "plt.show"
   ]
  },
  {
   "cell_type": "markdown",
   "metadata": {},
   "source": [
    "<font size=4><br><br>Based on the above analysis we can choose the following variables to predict\n",
    "<br><br><b><font color=\"blue\">Likes</font></b>:<br></font>\n",
    " [1] Number of Followers                  \n",
    " [2] Days since account creation          \n",
    " [3] Covid Policy Changes/hospital changes                  \n",
    " [4] Covid specific event                 \n",
    " [5] Event                                \n",
    " [6] General covid awareness              \n",
    " [7] Health Education/Awareness           \n",
    " [8] Hospital specific covid education           \n",
    " [9] Miscellaneous                        \n",
    "[10] Contains Image/Video                       \n",
    "[11] Urban                                \n",
    "[12] EVENING                              \n",
    "[13] MORNING                              \n",
    "[14] NIGHT                                \n",
    "[15] Weekend\n",
    "<br><br><b><font size=4><font color=\"blue\">Retweets</font>:<br></font></b>\n",
    "[1] Number of Followers<br>\n",
    "[2] Covid Policy Changes/hospital changes<br>\n",
    "[3] Hospital specific covid education<br>\n",
    "[4] Job Posting Hiring<br>\n",
    "[5] Miscellaneous<br>\n",
    "[6] No Image/Video<br>\n",
    "[7] Urban<br><br>"
   ]
  },
  {
   "cell_type": "markdown",
   "metadata": {},
   "source": [
    "### Likes"
   ]
  },
  {
   "cell_type": "code",
   "execution_count": 46,
   "metadata": {},
   "outputs": [],
   "source": [
    "X_train, X_test, y_train, y_test = train_test_split(regression_df.iloc[:,:-2], regression_df[[\"Likes\"]], test_size=0.1, random_state=101)"
   ]
  },
  {
   "cell_type": "code",
   "execution_count": 47,
   "metadata": {},
   "outputs": [
    {
     "name": "stdout",
     "output_type": "stream",
     "text": [
      "                           Results: Ordinary least squares\n",
      "=====================================================================================\n",
      "Model:                     OLS               Adj. R-squared (uncentered):  0.114     \n",
      "Dependent Variable:        Likes             AIC:                          84659.1195\n",
      "Date:                      2020-12-09 17:12  BIC:                          84767.2055\n",
      "No. Observations:          9954              Log-Likelihood:               -42315.   \n",
      "Df Model:                  15                F-statistic:                  85.99     \n",
      "Df Residuals:              9939              Prob (F-statistic):           2.04e-249 \n",
      "R-squared (uncentered):    0.115             Scale:                        288.78    \n",
      "-------------------------------------------------------------------------------------\n",
      "                                       Coef.  Std.Err.    t    P>|t|   [0.025  0.975]\n",
      "-------------------------------------------------------------------------------------\n",
      "Number of Followers                    8.7649   0.5347 16.3932 0.0000  7.7168  9.8130\n",
      "Days since account creation           -2.7135   0.4924 -5.5104 0.0000 -3.6787 -1.7482\n",
      "Covid Policy Changes/hospital changes  0.9879   0.8982  1.1000 0.2714 -0.7726  2.7485\n",
      "Covid specific event                   2.8129   0.8623  3.2621 0.0011  1.1226  4.5032\n",
      "Event                                  3.3596   1.2688  2.6478 0.0081  0.8725  5.8468\n",
      "General covid awareness                0.4133   1.1410  0.3623 0.7171 -1.8232  2.6498\n",
      "Health Education/Awareness             4.5679   0.8806  5.1872 0.0000  2.8417  6.2941\n",
      "Hospital specific covid education     -1.3975   0.8294 -1.6849 0.0920 -3.0233  0.2283\n",
      "Miscellaneous                         -0.4927   0.8402 -0.5865 0.5576 -2.1396  1.1541\n",
      "Contains Image/Video                   3.7470   0.3517 10.6536 0.0000  3.0576  4.4364\n",
      "Urban                                  4.1233   0.3985 10.3474 0.0000  3.3422  4.9044\n",
      "EVENING                               -0.2947   0.3502 -0.8415 0.4001 -0.9812  0.3918\n",
      "MORNING                                0.5213   1.6607  0.3139 0.7536 -2.7341  3.7766\n",
      "NIGHT                                 -0.2774   0.6782 -0.4091 0.6825 -1.6069  1.0520\n",
      "Weekend                                0.5464   0.4879  1.1200 0.2627 -0.4099  1.5027\n",
      "-------------------------------------------------------------------------------------\n",
      "Omnibus:                  25096.409          Durbin-Watson:             2.006        \n",
      "Prob(Omnibus):            0.000              Jarque-Bera (JB):          574114430.425\n",
      "Skew:                     27.679             Prob(JB):                  0.000        \n",
      "Kurtosis:                 1178.235           Condition No.:             12           \n",
      "=====================================================================================\n",
      "\n"
     ]
    }
   ],
   "source": [
    "cols = [\"Number of Followers\", \"Days since account creation\", \"Covid Policy Changes/hospital changes\", \"Covid specific event\",\n",
    "        \"Event\", \"General covid awareness\", \"Health Education/Awareness\", \"Hospital specific covid education\", \"Miscellaneous\",\n",
    "        \"Contains Image/Video\", \"Urban\", \"EVENING\", \"MORNING\", \"NIGHT\", \"Weekend\"]\n",
    "\n",
    "linear_model=sm.OLS(y_train[\"Likes\"], X_train[cols])\n",
    "result=linear_model.fit()\n",
    "print(result.summary2())"
   ]
  },
  {
   "cell_type": "code",
   "execution_count": 48,
   "metadata": {},
   "outputs": [
    {
     "name": "stdout",
     "output_type": "stream",
     "text": [
      "MSE = 43.9518\n"
     ]
    }
   ],
   "source": [
    "# Fitting training data to Linear regression model\n",
    "lm.fit(X_train[cols], y_train)\n",
    "\n",
    "# Prediction of target variable\n",
    "y_hat = lm.predict(X_test[cols])\n",
    "\n",
    "# Mean Squared Error\n",
    "print(f'MSE = {round(mean_squared_error(y_test, y_hat),4)}')"
   ]
  },
  {
   "cell_type": "code",
   "execution_count": 49,
   "metadata": {},
   "outputs": [
    {
     "data": {
      "text/plain": [
       "(array([-2.,  0.,  2.,  4.,  6.,  8., 10.]),\n",
       " <a list of 7 Text yticklabel objects>)"
      ]
     },
     "execution_count": 49,
     "metadata": {},
     "output_type": "execute_result"
    },
    {
     "data": {
      "image/png": "[encoded data removed]",
      "text/plain": [
       "<Figure size 648x432 with 1 Axes>"
      ]
     },
     "metadata": {
      "needs_background": "light"
     },
     "output_type": "display_data"
    }
   ],
   "source": [
    "likes_importance = lm.coef_.tolist()[0]\n",
    "coef = pd.DataFrame(likes_importance, cols, columns=[\"Feature Importance\"]).sort_values(by=['Feature Importance'], ascending=False)\n",
    "\n",
    "coef.plot(kind='bar', figsize=(9,6), color=(0.4, 0.6, 0.2, 0.6))\n",
    "plt.title(\"Modal Coefficients-Feature Importance Plot\", fontsize=25)\n",
    "plt.xticks(fontsize=15)\n",
    "plt.yticks(fontsize=15)"
   ]
  },
  {
   "cell_type": "markdown",
   "metadata": {},
   "source": [
    "### Retweets"
   ]
  },
  {
   "cell_type": "code",
   "execution_count": 50,
   "metadata": {},
   "outputs": [
    {
     "data": {
      "text/plain": [
       "Index(['Number of Followers', 'Days since account creation',\n",
       "       'Award/Achievement/Appreciation',\n",
       "       'Covid Policy Changes/hospital changes', 'Covid specific event',\n",
       "       'Event', 'General covid awareness', 'Health Education/Awareness',\n",
       "       'Hospital Promotion', 'Hospital specific covid education',\n",
       "       'Job Posting/Hiring', 'Miscellaneous', 'Contains Image/Video',\n",
       "       'No Image/Video', 'Rural', 'Urban', 'AFTERNOON', 'EVENING', 'MORNING',\n",
       "       'NIGHT', 'Weekday', 'Weekend', 'Likes', 'Retweets'],\n",
       "      dtype='object')"
      ]
     },
     "execution_count": 50,
     "metadata": {},
     "output_type": "execute_result"
    }
   ],
   "source": [
    "regression_df.columns"
   ]
  },
  {
   "cell_type": "code",
   "execution_count": 51,
   "metadata": {},
   "outputs": [],
   "source": [
    "X_train, X_test, y_train, y_test = train_test_split(regression_df.iloc[:,:-2], regression_df[[\"Retweets\"]], test_size=0.1, random_state=101)"
   ]
  },
  {
   "cell_type": "code",
   "execution_count": 52,
   "metadata": {},
   "outputs": [
    {
     "name": "stdout",
     "output_type": "stream",
     "text": [
      "                           Results: Ordinary least squares\n",
      "=====================================================================================\n",
      "Model:                     OLS               Adj. R-squared (uncentered):  0.093     \n",
      "Dependent Variable:        Retweets          AIC:                          61490.6085\n",
      "Date:                      2020-12-09 17:12  BIC:                          61541.0486\n",
      "No. Observations:          9954              Log-Likelihood:               -30738.   \n",
      "Df Model:                  7                 F-statistic:                  147.4     \n",
      "Df Residuals:              9947              Prob (F-statistic):           9.14e-208 \n",
      "R-squared (uncentered):    0.094             Scale:                        28.188    \n",
      "-------------------------------------------------------------------------------------\n",
      "                                       Coef.  Std.Err.    t    P>|t|   [0.025  0.975]\n",
      "-------------------------------------------------------------------------------------\n",
      "Number of Followers                    2.4930   0.1335 18.6742 0.0000  2.2313  2.7547\n",
      "Covid Policy Changes/hospital changes  0.2151   0.2759  0.7795 0.4357 -0.3258  0.7559\n",
      "Hospital specific covid education      0.0250   0.2545  0.0984 0.9216 -0.4738  0.5239\n",
      "Job Posting/Hiring                    -0.2526   0.2649 -0.9534 0.3404 -0.7719  0.2667\n",
      "Miscellaneous                          0.0696   0.2592  0.2687 0.7882 -0.4385  0.5778\n",
      "No Image/Video                        -0.5795   0.0967 -5.9946 0.0000 -0.7690 -0.3900\n",
      "Urban                                  1.6398   0.1196 13.7158 0.0000  1.4054  1.8741\n",
      "-------------------------------------------------------------------------------------\n",
      "Omnibus:                 27489.081          Durbin-Watson:             2.006         \n",
      "Prob(Omnibus):           0.000              Jarque-Bera (JB):          1511036274.183\n",
      "Skew:                    34.817             Prob(JB):                  0.000         \n",
      "Kurtosis:                1910.458           Condition No.:             4             \n",
      "=====================================================================================\n",
      "\n"
     ]
    }
   ],
   "source": [
    "cols = [\"Number of Followers\", \"Covid Policy Changes/hospital changes\", \"Hospital specific covid education\",\n",
    "        \"Job Posting/Hiring\", \"Miscellaneous\", \"No Image/Video\", \"Urban\"]\n",
    "\n",
    "linear_model=sm.OLS(y_train[\"Retweets\"], X_train[cols])\n",
    "result=linear_model.fit()\n",
    "print(result.summary2())"
   ]
  },
  {
   "cell_type": "code",
   "execution_count": 53,
   "metadata": {},
   "outputs": [
    {
     "name": "stdout",
     "output_type": "stream",
     "text": [
      "MSE = 6.3993\n"
     ]
    }
   ],
   "source": [
    "# Fitting training data to Linear regression model\n",
    "lm.fit(X_train[cols], y_train)\n",
    "\n",
    "# Prediction of target variable\n",
    "y_hat = lm.predict(X_test[cols])\n",
    "\n",
    "# Mean Squared Error\n",
    "print(f'MSE = {round(mean_squared_error(y_test, y_hat),4)}')"
   ]
  },
  {
   "cell_type": "code",
   "execution_count": 54,
   "metadata": {},
   "outputs": [
    {
     "data": {
      "text/plain": [
       "(array([-1.5, -1. , -0.5,  0. ,  0.5,  1. ,  1.5,  2. ,  2.5]),\n",
       " <a list of 9 Text yticklabel objects>)"
      ]
     },
     "execution_count": 54,
     "metadata": {},
     "output_type": "execute_result"
    },
    {
     "data": {
      "image/png": "[encoded data removed]",
      "text/plain": [
       "<Figure size 648x432 with 1 Axes>"
      ]
     },
     "metadata": {
      "needs_background": "light"
     },
     "output_type": "display_data"
    }
   ],
   "source": [
    "likes_importance = lm.coef_.tolist()[0]\n",
    "coef = pd.DataFrame(likes_importance, cols, columns=[\"Feature Importance\"]).sort_values(by=['Feature Importance'], ascending=False)\n",
    "\n",
    "coef.plot(kind='bar', figsize=(9,6), color=(0.4, 0.6, 0.2, 0.6))\n",
    "plt.title(\"Modal Coefficients-Feature Importance Plot\", fontsize=25)\n",
    "plt.xticks(fontsize=15)\n",
    "plt.yticks(fontsize=15)"
   ]
  }
 ],
 "metadata": {
  "kernelspec": {
   "display_name": "Python 3",
   "language": "python",
   "name": "python3"
  },
  "language_info": {
   "codemirror_mode": {
    "name": "ipython",
    "version": 3
   },
   "file_extension": ".py",
   "mimetype": "text/x-python",
   "name": "python",
   "nbconvert_exporter": "python",
   "pygments_lexer": "ipython3",
   "version": "3.7.6"
  }
 },
 "nbformat": 4,
 "nbformat_minor": 4
}
